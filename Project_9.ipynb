{
 "cells": [
  {
   "cell_type": "code",
   "execution_count": 1,
   "metadata": {},
   "outputs": [],
   "source": [
    "import pandas as pd\n",
    "import numpy as np\n",
    "import matplotlib.pyplot as plt\n",
    "from scipy import stats as st\n",
    "from sklearn.linear_model import LinearRegression\n",
    "from sklearn.model_selection import train_test_split\n",
    "from sklearn.metrics import mean_squared_error\n",
    "from pandas.plotting import scatter_matrix"
   ]
  },
  {
   "cell_type": "markdown",
   "metadata": {},
   "source": [
    "# Project Description"
   ]
  },
  {
   "cell_type": "markdown",
   "metadata": {},
   "source": [
    "OilyGiant Mining Company is looking for locations to build new wells. In this project, we will:\n",
    "\n",
    "1. Collect the oil well parameters in the selected region: oil quality and volume of reserves\n",
    "2. Build a model for predicting the volume of reserves in the new wells\n",
    "3. Pick the oil wells with the highest estimated values\n",
    "4. Pick the region with the highest total profit for the selected oil wells"
   ]
  },
  {
   "cell_type": "markdown",
   "metadata": {},
   "source": [
    "## Download and prepare data"
   ]
  },
  {
   "cell_type": "code",
   "execution_count": 2,
   "metadata": {},
   "outputs": [],
   "source": [
    "#import datasets\n",
    "geo_data_0 = pd.read_csv('/datasets/geo_data_0.csv')\n",
    "geo_data_1 = pd.read_csv('/datasets/geo_data_1.csv')\n",
    "geo_data_2 = pd.read_csv('/datasets/geo_data_2.csv')"
   ]
  },
  {
   "cell_type": "markdown",
   "metadata": {},
   "source": [
    "### EDA"
   ]
  },
  {
   "cell_type": "markdown",
   "metadata": {},
   "source": [
    "#### Geo_data_0"
   ]
  },
  {
   "cell_type": "code",
   "execution_count": 3,
   "metadata": {},
   "outputs": [
    {
     "data": {
      "text/html": [
       "<div>\n",
       "<style scoped>\n",
       "    .dataframe tbody tr th:only-of-type {\n",
       "        vertical-align: middle;\n",
       "    }\n",
       "\n",
       "    .dataframe tbody tr th {\n",
       "        vertical-align: top;\n",
       "    }\n",
       "\n",
       "    .dataframe thead th {\n",
       "        text-align: right;\n",
       "    }\n",
       "</style>\n",
       "<table border=\"1\" class=\"dataframe\">\n",
       "  <thead>\n",
       "    <tr style=\"text-align: right;\">\n",
       "      <th></th>\n",
       "      <th>id</th>\n",
       "      <th>f0</th>\n",
       "      <th>f1</th>\n",
       "      <th>f2</th>\n",
       "      <th>product</th>\n",
       "    </tr>\n",
       "  </thead>\n",
       "  <tbody>\n",
       "    <tr>\n",
       "      <th>0</th>\n",
       "      <td>txEyH</td>\n",
       "      <td>0.705745</td>\n",
       "      <td>-0.497823</td>\n",
       "      <td>1.221170</td>\n",
       "      <td>105.280062</td>\n",
       "    </tr>\n",
       "    <tr>\n",
       "      <th>1</th>\n",
       "      <td>2acmU</td>\n",
       "      <td>1.334711</td>\n",
       "      <td>-0.340164</td>\n",
       "      <td>4.365080</td>\n",
       "      <td>73.037750</td>\n",
       "    </tr>\n",
       "    <tr>\n",
       "      <th>2</th>\n",
       "      <td>409Wp</td>\n",
       "      <td>1.022732</td>\n",
       "      <td>0.151990</td>\n",
       "      <td>1.419926</td>\n",
       "      <td>85.265647</td>\n",
       "    </tr>\n",
       "    <tr>\n",
       "      <th>3</th>\n",
       "      <td>iJLyR</td>\n",
       "      <td>-0.032172</td>\n",
       "      <td>0.139033</td>\n",
       "      <td>2.978566</td>\n",
       "      <td>168.620776</td>\n",
       "    </tr>\n",
       "    <tr>\n",
       "      <th>4</th>\n",
       "      <td>Xdl7t</td>\n",
       "      <td>1.988431</td>\n",
       "      <td>0.155413</td>\n",
       "      <td>4.751769</td>\n",
       "      <td>154.036647</td>\n",
       "    </tr>\n",
       "  </tbody>\n",
       "</table>\n",
       "</div>"
      ],
      "text/plain": [
       "      id        f0        f1        f2     product\n",
       "0  txEyH  0.705745 -0.497823  1.221170  105.280062\n",
       "1  2acmU  1.334711 -0.340164  4.365080   73.037750\n",
       "2  409Wp  1.022732  0.151990  1.419926   85.265647\n",
       "3  iJLyR -0.032172  0.139033  2.978566  168.620776\n",
       "4  Xdl7t  1.988431  0.155413  4.751769  154.036647"
      ]
     },
     "execution_count": 3,
     "metadata": {},
     "output_type": "execute_result"
    }
   ],
   "source": [
    "geo_data_0.head()"
   ]
  },
  {
   "cell_type": "code",
   "execution_count": 4,
   "metadata": {},
   "outputs": [
    {
     "name": "stdout",
     "output_type": "stream",
     "text": [
      "<class 'pandas.core.frame.DataFrame'>\n",
      "RangeIndex: 100000 entries, 0 to 99999\n",
      "Data columns (total 5 columns):\n",
      " #   Column   Non-Null Count   Dtype  \n",
      "---  ------   --------------   -----  \n",
      " 0   id       100000 non-null  object \n",
      " 1   f0       100000 non-null  float64\n",
      " 2   f1       100000 non-null  float64\n",
      " 3   f2       100000 non-null  float64\n",
      " 4   product  100000 non-null  float64\n",
      "dtypes: float64(4), object(1)\n",
      "memory usage: 3.8+ MB\n"
     ]
    }
   ],
   "source": [
    "geo_data_0.info()"
   ]
  },
  {
   "cell_type": "code",
   "execution_count": 5,
   "metadata": {},
   "outputs": [
    {
     "data": {
      "text/html": [
       "<div>\n",
       "<style scoped>\n",
       "    .dataframe tbody tr th:only-of-type {\n",
       "        vertical-align: middle;\n",
       "    }\n",
       "\n",
       "    .dataframe tbody tr th {\n",
       "        vertical-align: top;\n",
       "    }\n",
       "\n",
       "    .dataframe thead th {\n",
       "        text-align: right;\n",
       "    }\n",
       "</style>\n",
       "<table border=\"1\" class=\"dataframe\">\n",
       "  <thead>\n",
       "    <tr style=\"text-align: right;\">\n",
       "      <th></th>\n",
       "      <th>f0</th>\n",
       "      <th>f1</th>\n",
       "      <th>f2</th>\n",
       "      <th>product</th>\n",
       "    </tr>\n",
       "  </thead>\n",
       "  <tbody>\n",
       "    <tr>\n",
       "      <th>count</th>\n",
       "      <td>100000.000000</td>\n",
       "      <td>100000.000000</td>\n",
       "      <td>100000.000000</td>\n",
       "      <td>100000.000000</td>\n",
       "    </tr>\n",
       "    <tr>\n",
       "      <th>mean</th>\n",
       "      <td>0.500419</td>\n",
       "      <td>0.250143</td>\n",
       "      <td>2.502647</td>\n",
       "      <td>92.500000</td>\n",
       "    </tr>\n",
       "    <tr>\n",
       "      <th>std</th>\n",
       "      <td>0.871832</td>\n",
       "      <td>0.504433</td>\n",
       "      <td>3.248248</td>\n",
       "      <td>44.288691</td>\n",
       "    </tr>\n",
       "    <tr>\n",
       "      <th>min</th>\n",
       "      <td>-1.408605</td>\n",
       "      <td>-0.848218</td>\n",
       "      <td>-12.088328</td>\n",
       "      <td>0.000000</td>\n",
       "    </tr>\n",
       "    <tr>\n",
       "      <th>25%</th>\n",
       "      <td>-0.072580</td>\n",
       "      <td>-0.200881</td>\n",
       "      <td>0.287748</td>\n",
       "      <td>56.497507</td>\n",
       "    </tr>\n",
       "    <tr>\n",
       "      <th>50%</th>\n",
       "      <td>0.502360</td>\n",
       "      <td>0.250252</td>\n",
       "      <td>2.515969</td>\n",
       "      <td>91.849972</td>\n",
       "    </tr>\n",
       "    <tr>\n",
       "      <th>75%</th>\n",
       "      <td>1.073581</td>\n",
       "      <td>0.700646</td>\n",
       "      <td>4.715088</td>\n",
       "      <td>128.564089</td>\n",
       "    </tr>\n",
       "    <tr>\n",
       "      <th>max</th>\n",
       "      <td>2.362331</td>\n",
       "      <td>1.343769</td>\n",
       "      <td>16.003790</td>\n",
       "      <td>185.364347</td>\n",
       "    </tr>\n",
       "  </tbody>\n",
       "</table>\n",
       "</div>"
      ],
      "text/plain": [
       "                  f0             f1             f2        product\n",
       "count  100000.000000  100000.000000  100000.000000  100000.000000\n",
       "mean        0.500419       0.250143       2.502647      92.500000\n",
       "std         0.871832       0.504433       3.248248      44.288691\n",
       "min        -1.408605      -0.848218     -12.088328       0.000000\n",
       "25%        -0.072580      -0.200881       0.287748      56.497507\n",
       "50%         0.502360       0.250252       2.515969      91.849972\n",
       "75%         1.073581       0.700646       4.715088     128.564089\n",
       "max         2.362331       1.343769      16.003790     185.364347"
      ]
     },
     "execution_count": 5,
     "metadata": {},
     "output_type": "execute_result"
    }
   ],
   "source": [
    "geo_data_0.describe()"
   ]
  },
  {
   "cell_type": "code",
   "execution_count": 6,
   "metadata": {},
   "outputs": [
    {
     "data": {
      "text/plain": [
       "id         0\n",
       "f0         0\n",
       "f1         0\n",
       "f2         0\n",
       "product    0\n",
       "dtype: int64"
      ]
     },
     "execution_count": 6,
     "metadata": {},
     "output_type": "execute_result"
    }
   ],
   "source": [
    "geo_data_0.isnull().sum()"
   ]
  },
  {
   "cell_type": "code",
   "execution_count": 7,
   "metadata": {},
   "outputs": [
    {
     "data": {
      "text/plain": [
       "0"
      ]
     },
     "execution_count": 7,
     "metadata": {},
     "output_type": "execute_result"
    }
   ],
   "source": [
    "geo_data_0.duplicated().sum()"
   ]
  },
  {
   "cell_type": "code",
   "execution_count": 8,
   "metadata": {},
   "outputs": [
    {
     "data": {
      "text/html": [
       "<div>\n",
       "<style scoped>\n",
       "    .dataframe tbody tr th:only-of-type {\n",
       "        vertical-align: middle;\n",
       "    }\n",
       "\n",
       "    .dataframe tbody tr th {\n",
       "        vertical-align: top;\n",
       "    }\n",
       "\n",
       "    .dataframe thead th {\n",
       "        text-align: right;\n",
       "    }\n",
       "</style>\n",
       "<table border=\"1\" class=\"dataframe\">\n",
       "  <thead>\n",
       "    <tr style=\"text-align: right;\">\n",
       "      <th></th>\n",
       "      <th>f0</th>\n",
       "      <th>f1</th>\n",
       "      <th>f2</th>\n",
       "      <th>product</th>\n",
       "    </tr>\n",
       "  </thead>\n",
       "  <tbody>\n",
       "    <tr>\n",
       "      <th>f0</th>\n",
       "      <td>1.000000</td>\n",
       "      <td>-0.440723</td>\n",
       "      <td>-0.003153</td>\n",
       "      <td>0.143536</td>\n",
       "    </tr>\n",
       "    <tr>\n",
       "      <th>f1</th>\n",
       "      <td>-0.440723</td>\n",
       "      <td>1.000000</td>\n",
       "      <td>0.001724</td>\n",
       "      <td>-0.192356</td>\n",
       "    </tr>\n",
       "    <tr>\n",
       "      <th>f2</th>\n",
       "      <td>-0.003153</td>\n",
       "      <td>0.001724</td>\n",
       "      <td>1.000000</td>\n",
       "      <td>0.483663</td>\n",
       "    </tr>\n",
       "    <tr>\n",
       "      <th>product</th>\n",
       "      <td>0.143536</td>\n",
       "      <td>-0.192356</td>\n",
       "      <td>0.483663</td>\n",
       "      <td>1.000000</td>\n",
       "    </tr>\n",
       "  </tbody>\n",
       "</table>\n",
       "</div>"
      ],
      "text/plain": [
       "               f0        f1        f2   product\n",
       "f0       1.000000 -0.440723 -0.003153  0.143536\n",
       "f1      -0.440723  1.000000  0.001724 -0.192356\n",
       "f2      -0.003153  0.001724  1.000000  0.483663\n",
       "product  0.143536 -0.192356  0.483663  1.000000"
      ]
     },
     "execution_count": 8,
     "metadata": {},
     "output_type": "execute_result"
    }
   ],
   "source": [
    "geo_data_0.corr()"
   ]
  },
  {
   "cell_type": "markdown",
   "metadata": {},
   "source": [
    "Data for geo_data_0 has no missing values or duplicates. All datatypes are acceptable."
   ]
  },
  {
   "cell_type": "markdown",
   "metadata": {},
   "source": [
    "#### Geo_data_1"
   ]
  },
  {
   "cell_type": "code",
   "execution_count": 9,
   "metadata": {},
   "outputs": [
    {
     "data": {
      "text/html": [
       "<div>\n",
       "<style scoped>\n",
       "    .dataframe tbody tr th:only-of-type {\n",
       "        vertical-align: middle;\n",
       "    }\n",
       "\n",
       "    .dataframe tbody tr th {\n",
       "        vertical-align: top;\n",
       "    }\n",
       "\n",
       "    .dataframe thead th {\n",
       "        text-align: right;\n",
       "    }\n",
       "</style>\n",
       "<table border=\"1\" class=\"dataframe\">\n",
       "  <thead>\n",
       "    <tr style=\"text-align: right;\">\n",
       "      <th></th>\n",
       "      <th>id</th>\n",
       "      <th>f0</th>\n",
       "      <th>f1</th>\n",
       "      <th>f2</th>\n",
       "      <th>product</th>\n",
       "    </tr>\n",
       "  </thead>\n",
       "  <tbody>\n",
       "    <tr>\n",
       "      <th>0</th>\n",
       "      <td>kBEdx</td>\n",
       "      <td>-15.001348</td>\n",
       "      <td>-8.276000</td>\n",
       "      <td>-0.005876</td>\n",
       "      <td>3.179103</td>\n",
       "    </tr>\n",
       "    <tr>\n",
       "      <th>1</th>\n",
       "      <td>62mP7</td>\n",
       "      <td>14.272088</td>\n",
       "      <td>-3.475083</td>\n",
       "      <td>0.999183</td>\n",
       "      <td>26.953261</td>\n",
       "    </tr>\n",
       "    <tr>\n",
       "      <th>2</th>\n",
       "      <td>vyE1P</td>\n",
       "      <td>6.263187</td>\n",
       "      <td>-5.948386</td>\n",
       "      <td>5.001160</td>\n",
       "      <td>134.766305</td>\n",
       "    </tr>\n",
       "    <tr>\n",
       "      <th>3</th>\n",
       "      <td>KcrkZ</td>\n",
       "      <td>-13.081196</td>\n",
       "      <td>-11.506057</td>\n",
       "      <td>4.999415</td>\n",
       "      <td>137.945408</td>\n",
       "    </tr>\n",
       "    <tr>\n",
       "      <th>4</th>\n",
       "      <td>AHL4O</td>\n",
       "      <td>12.702195</td>\n",
       "      <td>-8.147433</td>\n",
       "      <td>5.004363</td>\n",
       "      <td>134.766305</td>\n",
       "    </tr>\n",
       "  </tbody>\n",
       "</table>\n",
       "</div>"
      ],
      "text/plain": [
       "      id         f0         f1        f2     product\n",
       "0  kBEdx -15.001348  -8.276000 -0.005876    3.179103\n",
       "1  62mP7  14.272088  -3.475083  0.999183   26.953261\n",
       "2  vyE1P   6.263187  -5.948386  5.001160  134.766305\n",
       "3  KcrkZ -13.081196 -11.506057  4.999415  137.945408\n",
       "4  AHL4O  12.702195  -8.147433  5.004363  134.766305"
      ]
     },
     "execution_count": 9,
     "metadata": {},
     "output_type": "execute_result"
    }
   ],
   "source": [
    "geo_data_1.head()"
   ]
  },
  {
   "cell_type": "code",
   "execution_count": 10,
   "metadata": {},
   "outputs": [
    {
     "name": "stdout",
     "output_type": "stream",
     "text": [
      "<class 'pandas.core.frame.DataFrame'>\n",
      "RangeIndex: 100000 entries, 0 to 99999\n",
      "Data columns (total 5 columns):\n",
      " #   Column   Non-Null Count   Dtype  \n",
      "---  ------   --------------   -----  \n",
      " 0   id       100000 non-null  object \n",
      " 1   f0       100000 non-null  float64\n",
      " 2   f1       100000 non-null  float64\n",
      " 3   f2       100000 non-null  float64\n",
      " 4   product  100000 non-null  float64\n",
      "dtypes: float64(4), object(1)\n",
      "memory usage: 3.8+ MB\n"
     ]
    }
   ],
   "source": [
    "geo_data_1.info()"
   ]
  },
  {
   "cell_type": "code",
   "execution_count": 11,
   "metadata": {},
   "outputs": [
    {
     "data": {
      "text/html": [
       "<div>\n",
       "<style scoped>\n",
       "    .dataframe tbody tr th:only-of-type {\n",
       "        vertical-align: middle;\n",
       "    }\n",
       "\n",
       "    .dataframe tbody tr th {\n",
       "        vertical-align: top;\n",
       "    }\n",
       "\n",
       "    .dataframe thead th {\n",
       "        text-align: right;\n",
       "    }\n",
       "</style>\n",
       "<table border=\"1\" class=\"dataframe\">\n",
       "  <thead>\n",
       "    <tr style=\"text-align: right;\">\n",
       "      <th></th>\n",
       "      <th>f0</th>\n",
       "      <th>f1</th>\n",
       "      <th>f2</th>\n",
       "      <th>product</th>\n",
       "    </tr>\n",
       "  </thead>\n",
       "  <tbody>\n",
       "    <tr>\n",
       "      <th>count</th>\n",
       "      <td>100000.000000</td>\n",
       "      <td>100000.000000</td>\n",
       "      <td>100000.000000</td>\n",
       "      <td>100000.000000</td>\n",
       "    </tr>\n",
       "    <tr>\n",
       "      <th>mean</th>\n",
       "      <td>1.141296</td>\n",
       "      <td>-4.796579</td>\n",
       "      <td>2.494541</td>\n",
       "      <td>68.825000</td>\n",
       "    </tr>\n",
       "    <tr>\n",
       "      <th>std</th>\n",
       "      <td>8.965932</td>\n",
       "      <td>5.119872</td>\n",
       "      <td>1.703572</td>\n",
       "      <td>45.944423</td>\n",
       "    </tr>\n",
       "    <tr>\n",
       "      <th>min</th>\n",
       "      <td>-31.609576</td>\n",
       "      <td>-26.358598</td>\n",
       "      <td>-0.018144</td>\n",
       "      <td>0.000000</td>\n",
       "    </tr>\n",
       "    <tr>\n",
       "      <th>25%</th>\n",
       "      <td>-6.298551</td>\n",
       "      <td>-8.267985</td>\n",
       "      <td>1.000021</td>\n",
       "      <td>26.953261</td>\n",
       "    </tr>\n",
       "    <tr>\n",
       "      <th>50%</th>\n",
       "      <td>1.153055</td>\n",
       "      <td>-4.813172</td>\n",
       "      <td>2.011479</td>\n",
       "      <td>57.085625</td>\n",
       "    </tr>\n",
       "    <tr>\n",
       "      <th>75%</th>\n",
       "      <td>8.621015</td>\n",
       "      <td>-1.332816</td>\n",
       "      <td>3.999904</td>\n",
       "      <td>107.813044</td>\n",
       "    </tr>\n",
       "    <tr>\n",
       "      <th>max</th>\n",
       "      <td>29.421755</td>\n",
       "      <td>18.734063</td>\n",
       "      <td>5.019721</td>\n",
       "      <td>137.945408</td>\n",
       "    </tr>\n",
       "  </tbody>\n",
       "</table>\n",
       "</div>"
      ],
      "text/plain": [
       "                  f0             f1             f2        product\n",
       "count  100000.000000  100000.000000  100000.000000  100000.000000\n",
       "mean        1.141296      -4.796579       2.494541      68.825000\n",
       "std         8.965932       5.119872       1.703572      45.944423\n",
       "min       -31.609576     -26.358598      -0.018144       0.000000\n",
       "25%        -6.298551      -8.267985       1.000021      26.953261\n",
       "50%         1.153055      -4.813172       2.011479      57.085625\n",
       "75%         8.621015      -1.332816       3.999904     107.813044\n",
       "max        29.421755      18.734063       5.019721     137.945408"
      ]
     },
     "execution_count": 11,
     "metadata": {},
     "output_type": "execute_result"
    }
   ],
   "source": [
    "geo_data_1.describe()"
   ]
  },
  {
   "cell_type": "code",
   "execution_count": 12,
   "metadata": {},
   "outputs": [
    {
     "data": {
      "text/plain": [
       "id         0\n",
       "f0         0\n",
       "f1         0\n",
       "f2         0\n",
       "product    0\n",
       "dtype: int64"
      ]
     },
     "execution_count": 12,
     "metadata": {},
     "output_type": "execute_result"
    }
   ],
   "source": [
    "geo_data_1.isnull().sum()"
   ]
  },
  {
   "cell_type": "code",
   "execution_count": 13,
   "metadata": {},
   "outputs": [
    {
     "data": {
      "text/plain": [
       "0"
      ]
     },
     "execution_count": 13,
     "metadata": {},
     "output_type": "execute_result"
    }
   ],
   "source": [
    "geo_data_1.duplicated().sum()"
   ]
  },
  {
   "cell_type": "code",
   "execution_count": 14,
   "metadata": {},
   "outputs": [
    {
     "data": {
      "text/html": [
       "<div>\n",
       "<style scoped>\n",
       "    .dataframe tbody tr th:only-of-type {\n",
       "        vertical-align: middle;\n",
       "    }\n",
       "\n",
       "    .dataframe tbody tr th {\n",
       "        vertical-align: top;\n",
       "    }\n",
       "\n",
       "    .dataframe thead th {\n",
       "        text-align: right;\n",
       "    }\n",
       "</style>\n",
       "<table border=\"1\" class=\"dataframe\">\n",
       "  <thead>\n",
       "    <tr style=\"text-align: right;\">\n",
       "      <th></th>\n",
       "      <th>f0</th>\n",
       "      <th>f1</th>\n",
       "      <th>f2</th>\n",
       "      <th>product</th>\n",
       "    </tr>\n",
       "  </thead>\n",
       "  <tbody>\n",
       "    <tr>\n",
       "      <th>f0</th>\n",
       "      <td>1.000000</td>\n",
       "      <td>0.182287</td>\n",
       "      <td>-0.001777</td>\n",
       "      <td>-0.030491</td>\n",
       "    </tr>\n",
       "    <tr>\n",
       "      <th>f1</th>\n",
       "      <td>0.182287</td>\n",
       "      <td>1.000000</td>\n",
       "      <td>-0.002595</td>\n",
       "      <td>-0.010155</td>\n",
       "    </tr>\n",
       "    <tr>\n",
       "      <th>f2</th>\n",
       "      <td>-0.001777</td>\n",
       "      <td>-0.002595</td>\n",
       "      <td>1.000000</td>\n",
       "      <td>0.999397</td>\n",
       "    </tr>\n",
       "    <tr>\n",
       "      <th>product</th>\n",
       "      <td>-0.030491</td>\n",
       "      <td>-0.010155</td>\n",
       "      <td>0.999397</td>\n",
       "      <td>1.000000</td>\n",
       "    </tr>\n",
       "  </tbody>\n",
       "</table>\n",
       "</div>"
      ],
      "text/plain": [
       "               f0        f1        f2   product\n",
       "f0       1.000000  0.182287 -0.001777 -0.030491\n",
       "f1       0.182287  1.000000 -0.002595 -0.010155\n",
       "f2      -0.001777 -0.002595  1.000000  0.999397\n",
       "product -0.030491 -0.010155  0.999397  1.000000"
      ]
     },
     "execution_count": 14,
     "metadata": {},
     "output_type": "execute_result"
    }
   ],
   "source": [
    "geo_data_1.corr()"
   ]
  },
  {
   "cell_type": "markdown",
   "metadata": {},
   "source": [
    "data for geo_data_1 has no missing values or duplicates. All datatypes are acceptable."
   ]
  },
  {
   "cell_type": "markdown",
   "metadata": {},
   "source": [
    "#### Geo_data_2"
   ]
  },
  {
   "cell_type": "code",
   "execution_count": 15,
   "metadata": {},
   "outputs": [
    {
     "data": {
      "text/html": [
       "<div>\n",
       "<style scoped>\n",
       "    .dataframe tbody tr th:only-of-type {\n",
       "        vertical-align: middle;\n",
       "    }\n",
       "\n",
       "    .dataframe tbody tr th {\n",
       "        vertical-align: top;\n",
       "    }\n",
       "\n",
       "    .dataframe thead th {\n",
       "        text-align: right;\n",
       "    }\n",
       "</style>\n",
       "<table border=\"1\" class=\"dataframe\">\n",
       "  <thead>\n",
       "    <tr style=\"text-align: right;\">\n",
       "      <th></th>\n",
       "      <th>id</th>\n",
       "      <th>f0</th>\n",
       "      <th>f1</th>\n",
       "      <th>f2</th>\n",
       "      <th>product</th>\n",
       "    </tr>\n",
       "  </thead>\n",
       "  <tbody>\n",
       "    <tr>\n",
       "      <th>0</th>\n",
       "      <td>fwXo0</td>\n",
       "      <td>-1.146987</td>\n",
       "      <td>0.963328</td>\n",
       "      <td>-0.828965</td>\n",
       "      <td>27.758673</td>\n",
       "    </tr>\n",
       "    <tr>\n",
       "      <th>1</th>\n",
       "      <td>WJtFt</td>\n",
       "      <td>0.262778</td>\n",
       "      <td>0.269839</td>\n",
       "      <td>-2.530187</td>\n",
       "      <td>56.069697</td>\n",
       "    </tr>\n",
       "    <tr>\n",
       "      <th>2</th>\n",
       "      <td>ovLUW</td>\n",
       "      <td>0.194587</td>\n",
       "      <td>0.289035</td>\n",
       "      <td>-5.586433</td>\n",
       "      <td>62.871910</td>\n",
       "    </tr>\n",
       "    <tr>\n",
       "      <th>3</th>\n",
       "      <td>q6cA6</td>\n",
       "      <td>2.236060</td>\n",
       "      <td>-0.553760</td>\n",
       "      <td>0.930038</td>\n",
       "      <td>114.572842</td>\n",
       "    </tr>\n",
       "    <tr>\n",
       "      <th>4</th>\n",
       "      <td>WPMUX</td>\n",
       "      <td>-0.515993</td>\n",
       "      <td>1.716266</td>\n",
       "      <td>5.899011</td>\n",
       "      <td>149.600746</td>\n",
       "    </tr>\n",
       "  </tbody>\n",
       "</table>\n",
       "</div>"
      ],
      "text/plain": [
       "      id        f0        f1        f2     product\n",
       "0  fwXo0 -1.146987  0.963328 -0.828965   27.758673\n",
       "1  WJtFt  0.262778  0.269839 -2.530187   56.069697\n",
       "2  ovLUW  0.194587  0.289035 -5.586433   62.871910\n",
       "3  q6cA6  2.236060 -0.553760  0.930038  114.572842\n",
       "4  WPMUX -0.515993  1.716266  5.899011  149.600746"
      ]
     },
     "execution_count": 15,
     "metadata": {},
     "output_type": "execute_result"
    }
   ],
   "source": [
    "geo_data_2.head()"
   ]
  },
  {
   "cell_type": "code",
   "execution_count": 16,
   "metadata": {},
   "outputs": [
    {
     "name": "stdout",
     "output_type": "stream",
     "text": [
      "<class 'pandas.core.frame.DataFrame'>\n",
      "RangeIndex: 100000 entries, 0 to 99999\n",
      "Data columns (total 5 columns):\n",
      " #   Column   Non-Null Count   Dtype  \n",
      "---  ------   --------------   -----  \n",
      " 0   id       100000 non-null  object \n",
      " 1   f0       100000 non-null  float64\n",
      " 2   f1       100000 non-null  float64\n",
      " 3   f2       100000 non-null  float64\n",
      " 4   product  100000 non-null  float64\n",
      "dtypes: float64(4), object(1)\n",
      "memory usage: 3.8+ MB\n"
     ]
    }
   ],
   "source": [
    "geo_data_2.info()"
   ]
  },
  {
   "cell_type": "code",
   "execution_count": 17,
   "metadata": {},
   "outputs": [
    {
     "data": {
      "text/html": [
       "<div>\n",
       "<style scoped>\n",
       "    .dataframe tbody tr th:only-of-type {\n",
       "        vertical-align: middle;\n",
       "    }\n",
       "\n",
       "    .dataframe tbody tr th {\n",
       "        vertical-align: top;\n",
       "    }\n",
       "\n",
       "    .dataframe thead th {\n",
       "        text-align: right;\n",
       "    }\n",
       "</style>\n",
       "<table border=\"1\" class=\"dataframe\">\n",
       "  <thead>\n",
       "    <tr style=\"text-align: right;\">\n",
       "      <th></th>\n",
       "      <th>f0</th>\n",
       "      <th>f1</th>\n",
       "      <th>f2</th>\n",
       "      <th>product</th>\n",
       "    </tr>\n",
       "  </thead>\n",
       "  <tbody>\n",
       "    <tr>\n",
       "      <th>count</th>\n",
       "      <td>100000.000000</td>\n",
       "      <td>100000.000000</td>\n",
       "      <td>100000.000000</td>\n",
       "      <td>100000.000000</td>\n",
       "    </tr>\n",
       "    <tr>\n",
       "      <th>mean</th>\n",
       "      <td>0.002023</td>\n",
       "      <td>-0.002081</td>\n",
       "      <td>2.495128</td>\n",
       "      <td>95.000000</td>\n",
       "    </tr>\n",
       "    <tr>\n",
       "      <th>std</th>\n",
       "      <td>1.732045</td>\n",
       "      <td>1.730417</td>\n",
       "      <td>3.473445</td>\n",
       "      <td>44.749921</td>\n",
       "    </tr>\n",
       "    <tr>\n",
       "      <th>min</th>\n",
       "      <td>-8.760004</td>\n",
       "      <td>-7.084020</td>\n",
       "      <td>-11.970335</td>\n",
       "      <td>0.000000</td>\n",
       "    </tr>\n",
       "    <tr>\n",
       "      <th>25%</th>\n",
       "      <td>-1.162288</td>\n",
       "      <td>-1.174820</td>\n",
       "      <td>0.130359</td>\n",
       "      <td>59.450441</td>\n",
       "    </tr>\n",
       "    <tr>\n",
       "      <th>50%</th>\n",
       "      <td>0.009424</td>\n",
       "      <td>-0.009482</td>\n",
       "      <td>2.484236</td>\n",
       "      <td>94.925613</td>\n",
       "    </tr>\n",
       "    <tr>\n",
       "      <th>75%</th>\n",
       "      <td>1.158535</td>\n",
       "      <td>1.163678</td>\n",
       "      <td>4.858794</td>\n",
       "      <td>130.595027</td>\n",
       "    </tr>\n",
       "    <tr>\n",
       "      <th>max</th>\n",
       "      <td>7.238262</td>\n",
       "      <td>7.844801</td>\n",
       "      <td>16.739402</td>\n",
       "      <td>190.029838</td>\n",
       "    </tr>\n",
       "  </tbody>\n",
       "</table>\n",
       "</div>"
      ],
      "text/plain": [
       "                  f0             f1             f2        product\n",
       "count  100000.000000  100000.000000  100000.000000  100000.000000\n",
       "mean        0.002023      -0.002081       2.495128      95.000000\n",
       "std         1.732045       1.730417       3.473445      44.749921\n",
       "min        -8.760004      -7.084020     -11.970335       0.000000\n",
       "25%        -1.162288      -1.174820       0.130359      59.450441\n",
       "50%         0.009424      -0.009482       2.484236      94.925613\n",
       "75%         1.158535       1.163678       4.858794     130.595027\n",
       "max         7.238262       7.844801      16.739402     190.029838"
      ]
     },
     "execution_count": 17,
     "metadata": {},
     "output_type": "execute_result"
    }
   ],
   "source": [
    "geo_data_2.describe()"
   ]
  },
  {
   "cell_type": "code",
   "execution_count": 18,
   "metadata": {},
   "outputs": [
    {
     "data": {
      "text/plain": [
       "id         0\n",
       "f0         0\n",
       "f1         0\n",
       "f2         0\n",
       "product    0\n",
       "dtype: int64"
      ]
     },
     "execution_count": 18,
     "metadata": {},
     "output_type": "execute_result"
    }
   ],
   "source": [
    "geo_data_2.isnull().sum()"
   ]
  },
  {
   "cell_type": "code",
   "execution_count": 19,
   "metadata": {
    "scrolled": true
   },
   "outputs": [
    {
     "data": {
      "text/plain": [
       "0"
      ]
     },
     "execution_count": 19,
     "metadata": {},
     "output_type": "execute_result"
    }
   ],
   "source": [
    "geo_data_2.duplicated().sum()"
   ]
  },
  {
   "cell_type": "code",
   "execution_count": 20,
   "metadata": {},
   "outputs": [
    {
     "data": {
      "text/html": [
       "<div>\n",
       "<style scoped>\n",
       "    .dataframe tbody tr th:only-of-type {\n",
       "        vertical-align: middle;\n",
       "    }\n",
       "\n",
       "    .dataframe tbody tr th {\n",
       "        vertical-align: top;\n",
       "    }\n",
       "\n",
       "    .dataframe thead th {\n",
       "        text-align: right;\n",
       "    }\n",
       "</style>\n",
       "<table border=\"1\" class=\"dataframe\">\n",
       "  <thead>\n",
       "    <tr style=\"text-align: right;\">\n",
       "      <th></th>\n",
       "      <th>f0</th>\n",
       "      <th>f1</th>\n",
       "      <th>f2</th>\n",
       "      <th>product</th>\n",
       "    </tr>\n",
       "  </thead>\n",
       "  <tbody>\n",
       "    <tr>\n",
       "      <th>f0</th>\n",
       "      <td>1.000000</td>\n",
       "      <td>0.000528</td>\n",
       "      <td>-0.000448</td>\n",
       "      <td>-0.001987</td>\n",
       "    </tr>\n",
       "    <tr>\n",
       "      <th>f1</th>\n",
       "      <td>0.000528</td>\n",
       "      <td>1.000000</td>\n",
       "      <td>0.000779</td>\n",
       "      <td>-0.001012</td>\n",
       "    </tr>\n",
       "    <tr>\n",
       "      <th>f2</th>\n",
       "      <td>-0.000448</td>\n",
       "      <td>0.000779</td>\n",
       "      <td>1.000000</td>\n",
       "      <td>0.445871</td>\n",
       "    </tr>\n",
       "    <tr>\n",
       "      <th>product</th>\n",
       "      <td>-0.001987</td>\n",
       "      <td>-0.001012</td>\n",
       "      <td>0.445871</td>\n",
       "      <td>1.000000</td>\n",
       "    </tr>\n",
       "  </tbody>\n",
       "</table>\n",
       "</div>"
      ],
      "text/plain": [
       "               f0        f1        f2   product\n",
       "f0       1.000000  0.000528 -0.000448 -0.001987\n",
       "f1       0.000528  1.000000  0.000779 -0.001012\n",
       "f2      -0.000448  0.000779  1.000000  0.445871\n",
       "product -0.001987 -0.001012  0.445871  1.000000"
      ]
     },
     "execution_count": 20,
     "metadata": {},
     "output_type": "execute_result"
    }
   ],
   "source": [
    "geo_data_2.corr()"
   ]
  },
  {
   "cell_type": "markdown",
   "metadata": {},
   "source": [
    "Data for geo_data_2 has no missing values or duplicates. All datatypes are acceptable."
   ]
  },
  {
   "cell_type": "markdown",
   "metadata": {},
   "source": [
    "Conclusion: Our 3 datasets seem to be ready for model"
   ]
  },
  {
   "cell_type": "markdown",
   "metadata": {},
   "source": [
    "### Graphs"
   ]
  },
  {
   "cell_type": "code",
   "execution_count": 21,
   "metadata": {},
   "outputs": [
    {
     "data": {
      "text/plain": [
       "<matplotlib.legend.Legend at 0x7f61cd7e9940>"
      ]
     },
     "execution_count": 21,
     "metadata": {},
     "output_type": "execute_result"
    },
    {
     "data": {
      "image/png": "[encoded data removed]",
      "text/plain": [
       "<Figure size 640x480 with 1 Axes>"
      ]
     },
     "metadata": {},
     "output_type": "display_data"
    }
   ],
   "source": [
    "plt.hist(geo_data_0['product'], alpha=.1, bins=50)\n",
    "plt.hist(geo_data_1['product'], alpha=.1, bins=50)\n",
    "plt.hist(geo_data_2['product'], alpha=.1, bins=50)\n",
    "plt.legend(['region_0', 'region_1', 'region_2'])"
   ]
  },
  {
   "cell_type": "code",
   "execution_count": 22,
   "metadata": {},
   "outputs": [
    {
     "data": {
      "text/plain": [
       "Text(0.5, 1.0, 'Product by Region')"
      ]
     },
     "execution_count": 22,
     "metadata": {},
     "output_type": "execute_result"
    },
    {
     "data": {
      "image/png": "[encoded data removed]",
      "text/plain": [
       "<Figure size 640x480 with 1 Axes>"
      ]
     },
     "metadata": {},
     "output_type": "display_data"
    }
   ],
   "source": [
    "plt.boxplot([geo_data_0['product'], geo_data_1['product'], geo_data_2['product']])\n",
    "plt.legend(['region_0', 'region_1', 'region_2'])\n",
    "plt.title('Product by Region')"
   ]
  },
  {
   "cell_type": "markdown",
   "metadata": {},
   "source": [
    "## Model Creation and Training"
   ]
  },
  {
   "cell_type": "markdown",
   "metadata": {},
   "source": [
    "### Region 0"
   ]
  },
  {
   "cell_type": "code",
   "execution_count": 23,
   "metadata": {},
   "outputs": [],
   "source": [
    "X_0 = geo_data_0.drop(['product', 'id'], axis=1)\n",
    "y_0 = geo_data_0['product']"
   ]
  },
  {
   "cell_type": "code",
   "execution_count": 24,
   "metadata": {},
   "outputs": [],
   "source": [
    "X_0_train, X_0_valid, y_0_train, y_0_valid = train_test_split(X_0, y_0, test_size = 0.25, random_state = 1234)"
   ]
  },
  {
   "cell_type": "code",
   "execution_count": 25,
   "metadata": {},
   "outputs": [
    {
     "data": {
      "text/plain": [
       "LinearRegression()"
      ]
     },
     "execution_count": 25,
     "metadata": {},
     "output_type": "execute_result"
    }
   ],
   "source": [
    "#Linear Regression Model\n",
    "model_0 = LinearRegression()\n",
    "model_0.fit(X_0_train, y_0_train)"
   ]
  },
  {
   "cell_type": "code",
   "execution_count": 26,
   "metadata": {},
   "outputs": [
    {
     "data": {
      "text/plain": [
       "0.2740586761361865"
      ]
     },
     "execution_count": 26,
     "metadata": {},
     "output_type": "execute_result"
    }
   ],
   "source": [
    "model_0.score(X_0_valid, y_0_valid)"
   ]
  },
  {
   "cell_type": "markdown",
   "metadata": {},
   "source": [
    "Our model score is 0.27 which is very low compared to what we would expect the model accuracy to be for a model like this to be."
   ]
  },
  {
   "cell_type": "code",
   "execution_count": 27,
   "metadata": {},
   "outputs": [
    {
     "data": {
      "text/plain": [
       "array([ 82.78094476,  41.89174099, 137.35610715, ..., 105.13914461,\n",
       "        90.9467246 , 111.32639879])"
      ]
     },
     "execution_count": 27,
     "metadata": {},
     "output_type": "execute_result"
    }
   ],
   "source": [
    "predictions_0 = model_0.predict(X_0_valid)\n",
    "predictions_0"
   ]
  },
  {
   "cell_type": "code",
   "execution_count": 28,
   "metadata": {},
   "outputs": [
    {
     "data": {
      "text/html": [
       "<div>\n",
       "<style scoped>\n",
       "    .dataframe tbody tr th:only-of-type {\n",
       "        vertical-align: middle;\n",
       "    }\n",
       "\n",
       "    .dataframe tbody tr th {\n",
       "        vertical-align: top;\n",
       "    }\n",
       "\n",
       "    .dataframe thead th {\n",
       "        text-align: right;\n",
       "    }\n",
       "</style>\n",
       "<table border=\"1\" class=\"dataframe\">\n",
       "  <thead>\n",
       "    <tr style=\"text-align: right;\">\n",
       "      <th></th>\n",
       "      <th>predicted</th>\n",
       "      <th>actual</th>\n",
       "    </tr>\n",
       "  </thead>\n",
       "  <tbody>\n",
       "    <tr>\n",
       "      <th>0</th>\n",
       "      <td>82.780945</td>\n",
       "      <td>82.940945</td>\n",
       "    </tr>\n",
       "    <tr>\n",
       "      <th>1</th>\n",
       "      <td>41.891741</td>\n",
       "      <td>43.963568</td>\n",
       "    </tr>\n",
       "    <tr>\n",
       "      <th>2</th>\n",
       "      <td>137.356107</td>\n",
       "      <td>125.408598</td>\n",
       "    </tr>\n",
       "    <tr>\n",
       "      <th>3</th>\n",
       "      <td>105.695487</td>\n",
       "      <td>98.067233</td>\n",
       "    </tr>\n",
       "    <tr>\n",
       "      <th>4</th>\n",
       "      <td>99.545704</td>\n",
       "      <td>64.533441</td>\n",
       "    </tr>\n",
       "  </tbody>\n",
       "</table>\n",
       "</div>"
      ],
      "text/plain": [
       "    predicted      actual\n",
       "0   82.780945   82.940945\n",
       "1   41.891741   43.963568\n",
       "2  137.356107  125.408598\n",
       "3  105.695487   98.067233\n",
       "4   99.545704   64.533441"
      ]
     },
     "execution_count": 28,
     "metadata": {},
     "output_type": "execute_result"
    }
   ],
   "source": [
    "r0_vals = pd.DataFrame()\n",
    "r0_vals['predicted']= predictions_0\n",
    "r0_vals['actual'] = y_0_valid.values\n",
    "r0_vals.head()"
   ]
  },
  {
   "cell_type": "code",
   "execution_count": 29,
   "metadata": {},
   "outputs": [
    {
     "data": {
      "text/plain": [
       "37.562394183637785"
      ]
     },
     "execution_count": 29,
     "metadata": {},
     "output_type": "execute_result"
    }
   ],
   "source": [
    "np.sqrt(mean_squared_error(r0_vals['predicted'], r0_vals['actual']))"
   ]
  },
  {
   "cell_type": "code",
   "execution_count": 30,
   "metadata": {},
   "outputs": [],
   "source": [
    "revenue_per_thousand_barrels = 4500\n",
    "budget = 100000000"
   ]
  },
  {
   "cell_type": "code",
   "execution_count": 31,
   "metadata": {},
   "outputs": [],
   "source": [
    "def calculate_profit(predicted, actual):\n",
    "    # Align the index of predictions and target\n",
    "    combined = pd.DataFrame({'predictions': predicted, 'target': actual})\n",
    "    top_200 = combined.sort_values(by='predictions', ascending=False).head(200)\n",
    "    \n",
    "    # Calculate total reserves based on actual target values\n",
    "    total_reserves = top_200['target'].sum()\n",
    "    profit = total_reserves * revenue_per_thousand_barrels - budget\n",
    "    \n",
    "    return profit"
   ]
  },
  {
   "cell_type": "code",
   "execution_count": 32,
   "metadata": {
    "scrolled": true
   },
   "outputs": [
    {
     "data": {
      "text/plain": [
       "34240263.20247537"
      ]
     },
     "execution_count": 32,
     "metadata": {},
     "output_type": "execute_result"
    }
   ],
   "source": [
    "calculate_profit(r0_vals['predicted'], r0_vals['actual'])"
   ]
  },
  {
   "cell_type": "markdown",
   "metadata": {},
   "source": [
    "Region 0 has a profit projection based on our model of $34,240,163.20 with an RMSE score of 37.56. The accuracy of this model is not ideal."
   ]
  },
  {
   "cell_type": "markdown",
   "metadata": {},
   "source": [
    "### Region 1"
   ]
  },
  {
   "cell_type": "code",
   "execution_count": 33,
   "metadata": {},
   "outputs": [],
   "source": [
    "X_1 = geo_data_1.drop(['product', 'id'], axis=1)\n",
    "y_1 = geo_data_1['product']"
   ]
  },
  {
   "cell_type": "code",
   "execution_count": 34,
   "metadata": {},
   "outputs": [],
   "source": [
    "X_1_train, X_1_valid, y_1_train, y_1_valid = train_test_split(X_1, y_1, test_size = 0.25, random_state = 1234)"
   ]
  },
  {
   "cell_type": "code",
   "execution_count": 35,
   "metadata": {},
   "outputs": [
    {
     "data": {
      "text/plain": [
       "LinearRegression()"
      ]
     },
     "execution_count": 35,
     "metadata": {},
     "output_type": "execute_result"
    }
   ],
   "source": [
    "#Linear Regression Model\n",
    "model_1 = LinearRegression()\n",
    "model_1.fit(X_1_train, y_1_train)"
   ]
  },
  {
   "cell_type": "code",
   "execution_count": 36,
   "metadata": {
    "scrolled": true
   },
   "outputs": [
    {
     "data": {
      "text/plain": [
       "0.999619058765352"
      ]
     },
     "execution_count": 36,
     "metadata": {},
     "output_type": "execute_result"
    }
   ],
   "source": [
    "model_1.score(X_1_valid, y_1_valid)"
   ]
  },
  {
   "cell_type": "markdown",
   "metadata": {},
   "source": [
    "Our accuracy score is very high in this case with our accuracy score being almost 100%"
   ]
  },
  {
   "cell_type": "code",
   "execution_count": 37,
   "metadata": {},
   "outputs": [
    {
     "data": {
      "text/plain": [
       "array([ 53.25326369, 109.79649315,  -0.24409769, ...,  30.00299243,\n",
       "        25.78667575, 107.06029495])"
      ]
     },
     "execution_count": 37,
     "metadata": {},
     "output_type": "execute_result"
    }
   ],
   "source": [
    "predictions_1 = model_1.predict(X_1_valid)\n",
    "predictions_1"
   ]
  },
  {
   "cell_type": "code",
   "execution_count": 38,
   "metadata": {},
   "outputs": [
    {
     "data": {
      "text/html": [
       "<div>\n",
       "<style scoped>\n",
       "    .dataframe tbody tr th:only-of-type {\n",
       "        vertical-align: middle;\n",
       "    }\n",
       "\n",
       "    .dataframe tbody tr th {\n",
       "        vertical-align: top;\n",
       "    }\n",
       "\n",
       "    .dataframe thead th {\n",
       "        text-align: right;\n",
       "    }\n",
       "</style>\n",
       "<table border=\"1\" class=\"dataframe\">\n",
       "  <thead>\n",
       "    <tr style=\"text-align: right;\">\n",
       "      <th></th>\n",
       "      <th>predicted</th>\n",
       "      <th>actual</th>\n",
       "    </tr>\n",
       "  </thead>\n",
       "  <tbody>\n",
       "    <tr>\n",
       "      <th>0</th>\n",
       "      <td>53.253264</td>\n",
       "      <td>53.906522</td>\n",
       "    </tr>\n",
       "    <tr>\n",
       "      <th>1</th>\n",
       "      <td>109.796493</td>\n",
       "      <td>110.992147</td>\n",
       "    </tr>\n",
       "    <tr>\n",
       "      <th>2</th>\n",
       "      <td>-0.244098</td>\n",
       "      <td>0.000000</td>\n",
       "    </tr>\n",
       "    <tr>\n",
       "      <th>3</th>\n",
       "      <td>137.133124</td>\n",
       "      <td>137.945408</td>\n",
       "    </tr>\n",
       "    <tr>\n",
       "      <th>4</th>\n",
       "      <td>28.252534</td>\n",
       "      <td>26.953261</td>\n",
       "    </tr>\n",
       "  </tbody>\n",
       "</table>\n",
       "</div>"
      ],
      "text/plain": [
       "    predicted      actual\n",
       "0   53.253264   53.906522\n",
       "1  109.796493  110.992147\n",
       "2   -0.244098    0.000000\n",
       "3  137.133124  137.945408\n",
       "4   28.252534   26.953261"
      ]
     },
     "execution_count": 38,
     "metadata": {},
     "output_type": "execute_result"
    }
   ],
   "source": [
    "r1_vals = pd.DataFrame()\n",
    "r1_vals['predicted']= predictions_1\n",
    "r1_vals['actual'] = y_1_valid.values\n",
    "r1_vals.head()"
   ]
  },
  {
   "cell_type": "code",
   "execution_count": 39,
   "metadata": {},
   "outputs": [
    {
     "data": {
      "text/plain": [
       "0.8939344738117704"
      ]
     },
     "execution_count": 39,
     "metadata": {},
     "output_type": "execute_result"
    }
   ],
   "source": [
    "np.sqrt(mean_squared_error(r1_vals['predicted'], r1_vals['actual']))"
   ]
  },
  {
   "cell_type": "code",
   "execution_count": 40,
   "metadata": {},
   "outputs": [
    {
     "data": {
      "text/html": [
       "<div>\n",
       "<style scoped>\n",
       "    .dataframe tbody tr th:only-of-type {\n",
       "        vertical-align: middle;\n",
       "    }\n",
       "\n",
       "    .dataframe tbody tr th {\n",
       "        vertical-align: top;\n",
       "    }\n",
       "\n",
       "    .dataframe thead th {\n",
       "        text-align: right;\n",
       "    }\n",
       "</style>\n",
       "<table border=\"1\" class=\"dataframe\">\n",
       "  <thead>\n",
       "    <tr style=\"text-align: right;\">\n",
       "      <th></th>\n",
       "      <th>predicted</th>\n",
       "      <th>actual</th>\n",
       "    </tr>\n",
       "  </thead>\n",
       "  <tbody>\n",
       "    <tr>\n",
       "      <th>9827</th>\n",
       "      <td>138.694988</td>\n",
       "      <td>137.945408</td>\n",
       "    </tr>\n",
       "    <tr>\n",
       "      <th>19758</th>\n",
       "      <td>138.599400</td>\n",
       "      <td>137.945408</td>\n",
       "    </tr>\n",
       "    <tr>\n",
       "      <th>4812</th>\n",
       "      <td>138.592442</td>\n",
       "      <td>137.945408</td>\n",
       "    </tr>\n",
       "    <tr>\n",
       "      <th>21743</th>\n",
       "      <td>138.372817</td>\n",
       "      <td>137.945408</td>\n",
       "    </tr>\n",
       "    <tr>\n",
       "      <th>23764</th>\n",
       "      <td>138.305354</td>\n",
       "      <td>137.945408</td>\n",
       "    </tr>\n",
       "    <tr>\n",
       "      <th>...</th>\n",
       "      <td>...</td>\n",
       "      <td>...</td>\n",
       "    </tr>\n",
       "    <tr>\n",
       "      <th>8397</th>\n",
       "      <td>83.580171</td>\n",
       "      <td>84.038886</td>\n",
       "    </tr>\n",
       "    <tr>\n",
       "      <th>3606</th>\n",
       "      <td>83.556765</td>\n",
       "      <td>84.038886</td>\n",
       "    </tr>\n",
       "    <tr>\n",
       "      <th>10032</th>\n",
       "      <td>83.552136</td>\n",
       "      <td>84.038886</td>\n",
       "    </tr>\n",
       "    <tr>\n",
       "      <th>24829</th>\n",
       "      <td>83.530289</td>\n",
       "      <td>84.038886</td>\n",
       "    </tr>\n",
       "    <tr>\n",
       "      <th>6474</th>\n",
       "      <td>83.507325</td>\n",
       "      <td>84.038886</td>\n",
       "    </tr>\n",
       "  </tbody>\n",
       "</table>\n",
       "<p>200 rows × 2 columns</p>\n",
       "</div>"
      ],
      "text/plain": [
       "        predicted      actual\n",
       "9827   138.694988  137.945408\n",
       "19758  138.599400  137.945408\n",
       "4812   138.592442  137.945408\n",
       "21743  138.372817  137.945408\n",
       "23764  138.305354  137.945408\n",
       "...           ...         ...\n",
       "8397    83.580171   84.038886\n",
       "3606    83.556765   84.038886\n",
       "10032   83.552136   84.038886\n",
       "24829   83.530289   84.038886\n",
       "6474    83.507325   84.038886\n",
       "\n",
       "[200 rows x 2 columns]"
      ]
     },
     "execution_count": 40,
     "metadata": {},
     "output_type": "execute_result"
    }
   ],
   "source": [
    "r1_vals.sample(500).sort_values('predicted', ascending=False).iloc[0:200]"
   ]
  },
  {
   "cell_type": "code",
   "execution_count": 41,
   "metadata": {},
   "outputs": [
    {
     "data": {
      "text/plain": [
       "24150866.966815114"
      ]
     },
     "execution_count": 41,
     "metadata": {},
     "output_type": "execute_result"
    }
   ],
   "source": [
    "calculate_profit(r1_vals['predicted'], r1_vals['actual'])"
   ]
  },
  {
   "cell_type": "markdown",
   "metadata": {},
   "source": [
    "For region 1 our model score was exceptional at 0.999 accuracy and a RMSE of 0.89. We project the profit of this region to be $24,150,866.96 which is lower than region 0 but with a higher degree of accuracy. "
   ]
  },
  {
   "cell_type": "markdown",
   "metadata": {},
   "source": [
    "### Region 2"
   ]
  },
  {
   "cell_type": "code",
   "execution_count": 42,
   "metadata": {},
   "outputs": [],
   "source": [
    "X_2 = geo_data_2.drop(['product', 'id'], axis=1)\n",
    "y_2 = geo_data_2['product']"
   ]
  },
  {
   "cell_type": "code",
   "execution_count": 43,
   "metadata": {},
   "outputs": [],
   "source": [
    "X_2_train, X_2_valid, y_2_train, y_2_valid = train_test_split(X_2, y_2, test_size = 0.25, random_state = 1234)"
   ]
  },
  {
   "cell_type": "code",
   "execution_count": 44,
   "metadata": {},
   "outputs": [
    {
     "data": {
      "text/plain": [
       "LinearRegression()"
      ]
     },
     "execution_count": 44,
     "metadata": {},
     "output_type": "execute_result"
    }
   ],
   "source": [
    "#Linear Regression Model\n",
    "model_2 = LinearRegression()\n",
    "model_2.fit(X_2_train, y_2_train)"
   ]
  },
  {
   "cell_type": "code",
   "execution_count": 45,
   "metadata": {},
   "outputs": [
    {
     "data": {
      "text/plain": [
       "0.1983301043994069"
      ]
     },
     "execution_count": 45,
     "metadata": {},
     "output_type": "execute_result"
    }
   ],
   "source": [
    "model_2.score(X_2_valid, y_2_valid)"
   ]
  },
  {
   "cell_type": "markdown",
   "metadata": {},
   "source": [
    "Our accuracy score for this model is 20% "
   ]
  },
  {
   "cell_type": "code",
   "execution_count": 46,
   "metadata": {},
   "outputs": [
    {
     "data": {
      "text/plain": [
       "array([ 72.53622294,  66.57986802,  80.75146269, ...,  63.832606  ,\n",
       "       139.11929111, 109.03038805])"
      ]
     },
     "execution_count": 46,
     "metadata": {},
     "output_type": "execute_result"
    }
   ],
   "source": [
    "predictions_2 = model_2.predict(X_2_valid)\n",
    "predictions_2"
   ]
  },
  {
   "cell_type": "code",
   "execution_count": 47,
   "metadata": {},
   "outputs": [
    {
     "data": {
      "text/html": [
       "<div>\n",
       "<style scoped>\n",
       "    .dataframe tbody tr th:only-of-type {\n",
       "        vertical-align: middle;\n",
       "    }\n",
       "\n",
       "    .dataframe tbody tr th {\n",
       "        vertical-align: top;\n",
       "    }\n",
       "\n",
       "    .dataframe thead th {\n",
       "        text-align: right;\n",
       "    }\n",
       "</style>\n",
       "<table border=\"1\" class=\"dataframe\">\n",
       "  <thead>\n",
       "    <tr style=\"text-align: right;\">\n",
       "      <th></th>\n",
       "      <th>predicted</th>\n",
       "      <th>actual</th>\n",
       "    </tr>\n",
       "  </thead>\n",
       "  <tbody>\n",
       "    <tr>\n",
       "      <th>0</th>\n",
       "      <td>72.536223</td>\n",
       "      <td>77.366205</td>\n",
       "    </tr>\n",
       "    <tr>\n",
       "      <th>1</th>\n",
       "      <td>66.579868</td>\n",
       "      <td>40.588032</td>\n",
       "    </tr>\n",
       "    <tr>\n",
       "      <th>2</th>\n",
       "      <td>80.751463</td>\n",
       "      <td>57.820983</td>\n",
       "    </tr>\n",
       "    <tr>\n",
       "      <th>3</th>\n",
       "      <td>97.802814</td>\n",
       "      <td>89.209380</td>\n",
       "    </tr>\n",
       "    <tr>\n",
       "      <th>4</th>\n",
       "      <td>113.885918</td>\n",
       "      <td>120.450829</td>\n",
       "    </tr>\n",
       "  </tbody>\n",
       "</table>\n",
       "</div>"
      ],
      "text/plain": [
       "    predicted      actual\n",
       "0   72.536223   77.366205\n",
       "1   66.579868   40.588032\n",
       "2   80.751463   57.820983\n",
       "3   97.802814   89.209380\n",
       "4  113.885918  120.450829"
      ]
     },
     "execution_count": 47,
     "metadata": {},
     "output_type": "execute_result"
    }
   ],
   "source": [
    "r2_vals = pd.DataFrame()\n",
    "r2_vals['predicted']= predictions_2\n",
    "r2_vals['actual'] = y_2_valid.values\n",
    "r2_vals.head()"
   ]
  },
  {
   "cell_type": "code",
   "execution_count": 48,
   "metadata": {},
   "outputs": [
    {
     "data": {
      "text/plain": [
       "40.10318099258418"
      ]
     },
     "execution_count": 48,
     "metadata": {},
     "output_type": "execute_result"
    }
   ],
   "source": [
    "np.sqrt(mean_squared_error(r2_vals['predicted'], r2_vals['actual']))"
   ]
  },
  {
   "cell_type": "code",
   "execution_count": 49,
   "metadata": {},
   "outputs": [
    {
     "data": {
      "text/html": [
       "<div>\n",
       "<style scoped>\n",
       "    .dataframe tbody tr th:only-of-type {\n",
       "        vertical-align: middle;\n",
       "    }\n",
       "\n",
       "    .dataframe tbody tr th {\n",
       "        vertical-align: top;\n",
       "    }\n",
       "\n",
       "    .dataframe thead th {\n",
       "        text-align: right;\n",
       "    }\n",
       "</style>\n",
       "<table border=\"1\" class=\"dataframe\">\n",
       "  <thead>\n",
       "    <tr style=\"text-align: right;\">\n",
       "      <th></th>\n",
       "      <th>predicted</th>\n",
       "      <th>actual</th>\n",
       "    </tr>\n",
       "  </thead>\n",
       "  <tbody>\n",
       "    <tr>\n",
       "      <th>23509</th>\n",
       "      <td>138.284071</td>\n",
       "      <td>137.945408</td>\n",
       "    </tr>\n",
       "    <tr>\n",
       "      <th>5402</th>\n",
       "      <td>138.259505</td>\n",
       "      <td>137.945408</td>\n",
       "    </tr>\n",
       "    <tr>\n",
       "      <th>23170</th>\n",
       "      <td>138.122494</td>\n",
       "      <td>137.945408</td>\n",
       "    </tr>\n",
       "    <tr>\n",
       "      <th>9902</th>\n",
       "      <td>138.083486</td>\n",
       "      <td>137.945408</td>\n",
       "    </tr>\n",
       "    <tr>\n",
       "      <th>21449</th>\n",
       "      <td>138.052678</td>\n",
       "      <td>137.945408</td>\n",
       "    </tr>\n",
       "    <tr>\n",
       "      <th>...</th>\n",
       "      <td>...</td>\n",
       "      <td>...</td>\n",
       "    </tr>\n",
       "    <tr>\n",
       "      <th>3800</th>\n",
       "      <td>83.181805</td>\n",
       "      <td>84.038886</td>\n",
       "    </tr>\n",
       "    <tr>\n",
       "      <th>8585</th>\n",
       "      <td>83.086957</td>\n",
       "      <td>84.038886</td>\n",
       "    </tr>\n",
       "    <tr>\n",
       "      <th>6704</th>\n",
       "      <td>83.010849</td>\n",
       "      <td>84.038886</td>\n",
       "    </tr>\n",
       "    <tr>\n",
       "      <th>19137</th>\n",
       "      <td>82.951632</td>\n",
       "      <td>84.038886</td>\n",
       "    </tr>\n",
       "    <tr>\n",
       "      <th>7698</th>\n",
       "      <td>82.944480</td>\n",
       "      <td>84.038886</td>\n",
       "    </tr>\n",
       "  </tbody>\n",
       "</table>\n",
       "<p>200 rows × 2 columns</p>\n",
       "</div>"
      ],
      "text/plain": [
       "        predicted      actual\n",
       "23509  138.284071  137.945408\n",
       "5402   138.259505  137.945408\n",
       "23170  138.122494  137.945408\n",
       "9902   138.083486  137.945408\n",
       "21449  138.052678  137.945408\n",
       "...           ...         ...\n",
       "3800    83.181805   84.038886\n",
       "8585    83.086957   84.038886\n",
       "6704    83.010849   84.038886\n",
       "19137   82.951632   84.038886\n",
       "7698    82.944480   84.038886\n",
       "\n",
       "[200 rows x 2 columns]"
      ]
     },
     "execution_count": 49,
     "metadata": {},
     "output_type": "execute_result"
    }
   ],
   "source": [
    "r1_vals.sample(500).sort_values('predicted', ascending=False).iloc[0:200]"
   ]
  },
  {
   "cell_type": "code",
   "execution_count": 50,
   "metadata": {},
   "outputs": [
    {
     "data": {
      "text/plain": [
       "25549554.244339585"
      ]
     },
     "execution_count": 50,
     "metadata": {},
     "output_type": "execute_result"
    }
   ],
   "source": [
    "calculate_profit(r2_vals['predicted'],r2_vals['actual'])"
   ]
  },
  {
   "cell_type": "markdown",
   "metadata": {},
   "source": [
    "For region 2 we have an estimated profit of $25,549,554.24 which is lower than region 0. Our model has an accuracy score of 0.19 which is the lowest so far and an RMSE of 40.1."
   ]
  },
  {
   "cell_type": "markdown",
   "metadata": {},
   "source": [
    "## Profit Calculation & Risk"
   ]
  },
  {
   "cell_type": "code",
   "execution_count": 61,
   "metadata": {},
   "outputs": [
    {
     "name": "stdout",
     "output_type": "stream",
     "text": [
      "The break-even volume of reserves per well is approximately 111.11 thousand barrels.\n",
      "Break-even volume per well (thousand barrels): 111.11\n",
      "Average volume of reserves in Region 0: 92.50\n",
      "Average volume of reserves in Region 1: 68.83\n",
      "Average volume of reserves in Region 2: 95.00\n",
      "Region 0 is not profitable based on the average volume of reserves.\n",
      "Region 1 is not profitable based on the average volume of reserves.\n",
      "Region 2 is not profitable based on the average volume of reserves.\n"
     ]
    }
   ],
   "source": [
    "total_budget = 100_000_000  # in USD\n",
    "num_wells = 200\n",
    "revenue_per_barrel = 4.5  # in USD\n",
    "\n",
    "# Calculations\n",
    "cost_per_well = total_budget / num_wells\n",
    "revenue_per_thousand_barrels = revenue_per_barrel * 1000  # since volume is in thousand barrels\n",
    "\n",
    "# Calculate break-even volume\n",
    "break_even_volume = cost_per_well / revenue_per_thousand_barrels\n",
    "\n",
    "print(f'The break-even volume of reserves per well is approximately {break_even_volume:.2f} thousand barrels.')\n",
    "# Calculate average volume of reserves for each region\n",
    "average_volume_0 = geo_data_0['product'].mean()\n",
    "average_volume_1 = geo_data_1['product'].mean()\n",
    "average_volume_2 = geo_data_2['product'].mean()\n",
    "\n",
    "# Print results\n",
    "print(f\"Break-even volume per well (thousand barrels): {break_even_volume:.2f}\")\n",
    "print(f\"Average volume of reserves in Region 0: {average_volume_0:.2f}\")\n",
    "print(f\"Average volume of reserves in Region 1: {average_volume_1:.2f}\")\n",
    "print(f\"Average volume of reserves in Region 2: {average_volume_2:.2f}\")\n",
    "\n",
    "# Compare break-even volume with the average volumes in each region\n",
    "if average_volume_0 >= break_even_volume:\n",
    "    print(\"Region 0 is profitable based on the average volume of reserves.\")\n",
    "else:\n",
    "    print(\"Region 0 is not profitable based on the average volume of reserves.\")\n",
    "    \n",
    "if average_volume_1 >= break_even_volume:\n",
    "    print(\"Region 1 is profitable based on the average volume of reserves.\")\n",
    "else:\n",
    "    print(\"Region 1 is not profitable based on the average volume of reserves.\")\n",
    "    \n",
    "if average_volume_2 >= break_even_volume:\n",
    "    print(\"Region 2 is profitable based on the average volume of reserves.\")\n",
    "else:\n",
    "    print(\"Region 2 is not profitable based on the average volume of reserves.\")"
   ]
  },
  {
   "cell_type": "markdown",
   "metadata": {},
   "source": [
    "### Region 0"
   ]
  },
  {
   "cell_type": "code",
   "execution_count": 51,
   "metadata": {
    "scrolled": true
   },
   "outputs": [
    {
     "name": "stdout",
     "output_type": "stream",
     "text": [
      "Average Profit: 3858940.30\n",
      "95% Confidence Interval: [-1614548.00181061  9190427.31284036]\n",
      "Risk of Losses: 6.90%\n",
      "Based on the bootstrap analysis, the average profit for this region is 3858940.30.\n",
      "The 95% confidence interval for the profit is between -1614548.00 and 9190427.31.\n",
      "The risk of losses is above 2.5%, thus this region is not recommended for development.\n"
     ]
    }
   ],
   "source": [
    "# Example constants\n",
    "BOOTSTRAP_SAMPLES = 1000\n",
    "BUDGET = 100_000_000  # 100 million USD\n",
    "REVENUE_PER_BARREL = 4500  # 4.5 USD per barrel, given that reserves are in thousand barrels\n",
    "WELLS_TO_PRODUCE = 200\n",
    "\n",
    "profits = []\n",
    "\n",
    "for i in range(BOOTSTRAP_SAMPLES):\n",
    "    subsample = r0_vals.sample(500, replace=True)\n",
    "    profit = calculate_profit(subsample['predicted'], subsample['actual'])\n",
    "    profits.append(profit)\n",
    "\n",
    "profits = np.array(profits)\n",
    "\n",
    "# 5.2 Find average profit, 95% confidence interval, and risk of losses\n",
    "average_profit = np.mean(profits)\n",
    "confidence_interval = np.percentile(profits, [2.5, 97.5])\n",
    "risk_of_loss = (profits < 0).mean()\n",
    "\n",
    "print(f\"Average Profit: {average_profit:.2f}\")\n",
    "print(f\"95% Confidence Interval: {confidence_interval}\")\n",
    "print(f\"Risk of Losses: {risk_of_loss:.2%}\")\n",
    "\n",
    "# 5.3 Provide findings\n",
    "print(f\"Based on the bootstrap analysis, the average profit for this region is {average_profit:.2f}.\")\n",
    "print(f\"The 95% confidence interval for the profit is between {confidence_interval[0]:.2f} and {confidence_interval[1]:.2f}.\")\n",
    "\n",
    "if risk_of_loss < 0.025:\n",
    "    print(\"The risk of losses is below 2.5%, thus this region is acceptable for development.\")\n",
    "else:\n",
    "    print(\"The risk of losses is above 2.5%, thus this region is not recommended for development.\")"
   ]
  },
  {
   "cell_type": "markdown",
   "metadata": {},
   "source": [
    "### Region 1"
   ]
  },
  {
   "cell_type": "code",
   "execution_count": 54,
   "metadata": {
    "scrolled": true
   },
   "outputs": [
    {
     "name": "stdout",
     "output_type": "stream",
     "text": [
      "Average Profit: 4181279.01\n",
      "95% Confidence Interval: [ 427384.10476823 8125188.80550112]\n",
      "Risk of Losses: 1.60%\n",
      "Based on the bootstrap analysis, the average profit for this region is 4181279.01.\n",
      "The 95% confidence interval for the profit is between 427384.10 and 8125188.81.\n",
      "The risk of losses is below 2.5%, thus this region is acceptable for development.\n"
     ]
    }
   ],
   "source": [
    "# Example constants\n",
    "BOOTSTRAP_SAMPLES = 1000\n",
    "BUDGET = 100_000_000  # 100 million USD\n",
    "REVENUE_PER_BARREL = 4500  # 4.5 USD per barrel, given that reserves are in thousand barrels\n",
    "WELLS_TO_PRODUCE = 200\n",
    "\n",
    "profits = []\n",
    "\n",
    "for i in range(BOOTSTRAP_SAMPLES):\n",
    "    subsample = r1_vals.sample(500, replace=True)\n",
    "    profit = calculate_profit(subsample['predicted'], subsample['actual'])\n",
    "    profits.append(profit)\n",
    "\n",
    "profits = np.array(profits)\n",
    "\n",
    "# 5.2 Find average profit, 95% confidence interval, and risk of losses\n",
    "average_profit = np.mean(profits)\n",
    "confidence_interval = np.percentile(profits, [2.5, 97.5])\n",
    "risk_of_loss = (profits < 0).mean()\n",
    "\n",
    "print(f\"Average Profit: {average_profit:.2f}\")\n",
    "print(f\"95% Confidence Interval: {confidence_interval}\")\n",
    "print(f\"Risk of Losses: {risk_of_loss:.2%}\")\n",
    "\n",
    "# 5.3 Provide findings\n",
    "print(f\"Based on the bootstrap analysis, the average profit for this region is {average_profit:.2f}.\")\n",
    "print(f\"The 95% confidence interval for the profit is between {confidence_interval[0]:.2f} and {confidence_interval[1]:.2f}.\")\n",
    "\n",
    "if risk_of_loss < 0.025:\n",
    "    print(\"The risk of losses is below 2.5%, thus this region is acceptable for development.\")\n",
    "else:\n",
    "    print(\"The risk of losses is above 2.5%, thus this region is not recommended for development.\")"
   ]
  },
  {
   "cell_type": "markdown",
   "metadata": {},
   "source": [
    "### Region 2"
   ]
  },
  {
   "cell_type": "code",
   "execution_count": 55,
   "metadata": {},
   "outputs": [
    {
     "name": "stdout",
     "output_type": "stream",
     "text": [
      "Average Profit: 3436809.61\n",
      "95% Confidence Interval: [-2088051.19285253  8706049.53280224]\n",
      "Risk of Losses: 9.40%\n",
      "Based on the bootstrap analysis, the average profit for this region is 3436809.61.\n",
      "The 95% confidence interval for the profit is between -2088051.19 and 8706049.53.\n",
      "The risk of losses is above 2.5%, thus this region is not recommended for development.\n"
     ]
    }
   ],
   "source": [
    "# Example constants\n",
    "BOOTSTRAP_SAMPLES = 1000\n",
    "BUDGET = 100_000_000  # 100 million USD\n",
    "REVENUE_PER_BARREL = 4500  # 4.5 USD per barrel, given that reserves are in thousand barrels\n",
    "WELLS_TO_PRODUCE = 200\n",
    "\n",
    "profits = []\n",
    "\n",
    "for i in range(BOOTSTRAP_SAMPLES):\n",
    "    subsample = r2_vals.sample(500, replace=True, random_state=i)\n",
    "    profit = calculate_profit(subsample['predicted'], subsample['actual'])\n",
    "    profits.append(profit)\n",
    "\n",
    "profits = np.array(profits)\n",
    "\n",
    "# 5.2 Find average profit, 95% confidence interval, and risk of losses\n",
    "average_profit = np.mean(profits)\n",
    "confidence_interval = np.percentile(profits, [2.5, 97.5])\n",
    "risk_of_loss = (profits < 0).mean()\n",
    "\n",
    "print(f\"Average Profit: {average_profit:.2f}\")\n",
    "print(f\"95% Confidence Interval: {confidence_interval}\")\n",
    "print(f\"Risk of Losses: {risk_of_loss:.2%}\")\n",
    "\n",
    "# 5.3 Provide findings\n",
    "print(f\"Based on the bootstrap analysis, the average profit for this region is {average_profit:.2f}.\")\n",
    "print(f\"The 95% confidence interval for the profit is between {confidence_interval[0]:.2f} and {confidence_interval[1]:.2f}.\")\n",
    "\n",
    "if risk_of_loss < 0.025:\n",
    "    print(\"The risk of losses is below 2.5%, thus this region is acceptable for development.\")\n",
    "else:\n",
    "    print(\"The risk of losses is above 2.5%, thus this region is not recommended for development.\")"
   ]
  },
  {
   "cell_type": "markdown",
   "metadata": {},
   "source": [
    "# Conclusion"
   ]
  },
  {
   "cell_type": "markdown",
   "metadata": {},
   "source": [
    "During this process we took 3 sets of data for 3 regions to determine the best options for new wells to start generating a profit. Our budget for development is $100 million USD for 200 wells. \n",
    "\n",
    "Based on our predictions, the best location for our new site location would be region 1 with an estimated profit ~34,000,000 and a very low risk of loss.  "
   ]
  }
 ],
 "metadata": {
  "ExecuteTimeLog": [
   {
    "duration": 5144,
    "start_time": "2024-08-13T16:58:01.917Z"
   },
   {
    "duration": 163,
    "start_time": "2024-08-13T17:00:07.691Z"
   },
   {
    "duration": 1461,
    "start_time": "2024-08-13T17:01:06.423Z"
   },
   {
    "duration": 415,
    "start_time": "2024-08-13T17:01:16.355Z"
   },
   {
    "duration": 383,
    "start_time": "2024-08-13T17:01:27.826Z"
   },
   {
    "duration": 17,
    "start_time": "2024-08-13T17:03:06.930Z"
   },
   {
    "duration": 42,
    "start_time": "2024-08-13T17:03:46.336Z"
   },
   {
    "duration": 14,
    "start_time": "2024-08-13T17:04:33.943Z"
   },
   {
    "duration": 58,
    "start_time": "2024-08-13T17:05:44.640Z"
   },
   {
    "duration": 55,
    "start_time": "2024-08-13T17:05:49.534Z"
   },
   {
    "duration": 15,
    "start_time": "2024-08-13T17:08:09.566Z"
   },
   {
    "duration": 52,
    "start_time": "2024-08-13T17:09:57.587Z"
   },
   {
    "duration": 24,
    "start_time": "2024-08-13T17:11:09.225Z"
   },
   {
    "duration": 15,
    "start_time": "2024-08-13T17:11:18.857Z"
   },
   {
    "duration": 53,
    "start_time": "2024-08-13T17:11:44.097Z"
   },
   {
    "duration": 12,
    "start_time": "2024-08-13T17:12:51.752Z"
   },
   {
    "duration": 62,
    "start_time": "2024-08-13T17:13:02.872Z"
   },
   {
    "duration": 24,
    "start_time": "2024-08-13T17:13:37.308Z"
   },
   {
    "duration": 14,
    "start_time": "2024-08-13T17:13:43.383Z"
   },
   {
    "duration": 57,
    "start_time": "2024-08-13T17:14:02.288Z"
   },
   {
    "duration": 24,
    "start_time": "2024-08-13T17:18:29.158Z"
   },
   {
    "duration": 2011,
    "start_time": "2024-08-13T17:20:19.194Z"
   },
   {
    "duration": 427,
    "start_time": "2024-08-13T17:21:36.155Z"
   },
   {
    "duration": 473,
    "start_time": "2024-08-13T17:22:31.595Z"
   },
   {
    "duration": 574,
    "start_time": "2024-08-13T17:23:42.954Z"
   },
   {
    "duration": 592,
    "start_time": "2024-08-13T17:23:57.580Z"
   },
   {
    "duration": 718,
    "start_time": "2024-08-13T17:27:48.247Z"
   },
   {
    "duration": 292,
    "start_time": "2024-08-13T17:31:36.102Z"
   },
   {
    "duration": 303,
    "start_time": "2024-08-13T17:32:08.334Z"
   },
   {
    "duration": 21,
    "start_time": "2024-08-13T17:34:55.773Z"
   },
   {
    "duration": 18,
    "start_time": "2024-08-13T17:35:36.395Z"
   },
   {
    "duration": 19,
    "start_time": "2024-08-13T17:36:09.713Z"
   },
   {
    "duration": 22,
    "start_time": "2024-08-13T17:42:31.927Z"
   },
   {
    "duration": 20,
    "start_time": "2024-08-13T17:42:52.794Z"
   },
   {
    "duration": 19,
    "start_time": "2024-08-13T17:44:03.122Z"
   },
   {
    "duration": 5,
    "start_time": "2024-08-13T17:57:38.980Z"
   },
   {
    "duration": 26,
    "start_time": "2024-08-13T18:02:17.192Z"
   },
   {
    "duration": 20,
    "start_time": "2024-08-13T18:02:28.261Z"
   },
   {
    "duration": 16,
    "start_time": "2024-08-13T18:07:12.172Z"
   },
   {
    "duration": 9,
    "start_time": "2024-08-13T18:08:12.685Z"
   },
   {
    "duration": 33,
    "start_time": "2024-08-13T18:13:49.858Z"
   },
   {
    "duration": 9,
    "start_time": "2024-08-13T18:13:56.087Z"
   },
   {
    "duration": 8,
    "start_time": "2024-08-13T18:14:07.368Z"
   },
   {
    "duration": 8,
    "start_time": "2024-08-13T18:18:43.445Z"
   },
   {
    "duration": 582,
    "start_time": "2024-08-13T18:19:14.219Z"
   },
   {
    "duration": 27,
    "start_time": "2024-08-13T18:19:48.479Z"
   },
   {
    "duration": 73,
    "start_time": "2024-08-13T18:19:52.739Z"
   },
   {
    "duration": 9,
    "start_time": "2024-08-13T18:20:11.300Z"
   },
   {
    "duration": 19,
    "start_time": "2024-08-13T18:20:19.577Z"
   },
   {
    "duration": 14,
    "start_time": "2024-08-13T18:20:32.407Z"
   },
   {
    "duration": 15,
    "start_time": "2024-08-13T18:31:40.346Z"
   },
   {
    "duration": 8,
    "start_time": "2024-08-13T18:31:41.076Z"
   },
   {
    "duration": 12,
    "start_time": "2024-08-13T18:35:40.667Z"
   },
   {
    "duration": 10,
    "start_time": "2024-08-13T18:36:05.193Z"
   },
   {
    "duration": 14,
    "start_time": "2024-08-13T18:36:43.262Z"
   },
   {
    "duration": 6,
    "start_time": "2024-08-13T18:48:13.709Z"
   },
   {
    "duration": 19,
    "start_time": "2024-08-13T18:48:40.530Z"
   },
   {
    "duration": 16,
    "start_time": "2024-08-13T18:48:59.867Z"
   },
   {
    "duration": 12,
    "start_time": "2024-08-13T18:49:12.505Z"
   },
   {
    "duration": 9,
    "start_time": "2024-08-13T18:49:20.909Z"
   },
   {
    "duration": 10,
    "start_time": "2024-08-13T18:50:08.595Z"
   },
   {
    "duration": 15,
    "start_time": "2024-08-13T18:50:45.781Z"
   },
   {
    "duration": 9,
    "start_time": "2024-08-13T18:51:38.927Z"
   },
   {
    "duration": 15,
    "start_time": "2024-08-13T18:51:39.669Z"
   },
   {
    "duration": 7,
    "start_time": "2024-08-13T18:52:07.768Z"
   },
   {
    "duration": 14,
    "start_time": "2024-08-13T18:52:39.895Z"
   },
   {
    "duration": 5,
    "start_time": "2024-08-13T18:53:29.129Z"
   },
   {
    "duration": 16,
    "start_time": "2024-08-13T18:53:54.356Z"
   },
   {
    "duration": 23,
    "start_time": "2024-08-13T18:54:15.039Z"
   },
   {
    "duration": 14,
    "start_time": "2024-08-13T18:54:20.894Z"
   },
   {
    "duration": 12,
    "start_time": "2024-08-13T18:54:37.343Z"
   },
   {
    "duration": 9,
    "start_time": "2024-08-13T18:55:03.035Z"
   },
   {
    "duration": 15,
    "start_time": "2024-08-13T18:55:25.754Z"
   },
   {
    "duration": 8,
    "start_time": "2024-08-13T18:55:46.467Z"
   },
   {
    "duration": 17,
    "start_time": "2024-08-13T18:55:57.685Z"
   },
   {
    "duration": 323,
    "start_time": "2024-08-14T14:39:05.985Z"
   },
   {
    "duration": 5192,
    "start_time": "2024-08-14T14:39:12.735Z"
   },
   {
    "duration": 593,
    "start_time": "2024-08-14T14:39:17.931Z"
   },
   {
    "duration": 18,
    "start_time": "2024-08-14T14:39:18.527Z"
   },
   {
    "duration": 24,
    "start_time": "2024-08-14T14:39:18.567Z"
   },
   {
    "duration": 53,
    "start_time": "2024-08-14T14:39:18.594Z"
   },
   {
    "duration": 19,
    "start_time": "2024-08-14T14:39:18.671Z"
   },
   {
    "duration": 92,
    "start_time": "2024-08-14T14:39:18.693Z"
   },
   {
    "duration": 22,
    "start_time": "2024-08-14T14:39:18.788Z"
   },
   {
    "duration": 15,
    "start_time": "2024-08-14T14:39:18.814Z"
   },
   {
    "duration": 54,
    "start_time": "2024-08-14T14:39:18.836Z"
   },
   {
    "duration": 41,
    "start_time": "2024-08-14T14:39:18.896Z"
   },
   {
    "duration": 32,
    "start_time": "2024-08-14T14:39:18.944Z"
   },
   {
    "duration": 57,
    "start_time": "2024-08-14T14:39:18.980Z"
   },
   {
    "duration": 48,
    "start_time": "2024-08-14T14:39:19.042Z"
   },
   {
    "duration": 12,
    "start_time": "2024-08-14T14:39:19.096Z"
   },
   {
    "duration": 23,
    "start_time": "2024-08-14T14:39:19.112Z"
   },
   {
    "duration": 71,
    "start_time": "2024-08-14T14:39:19.139Z"
   },
   {
    "duration": 17,
    "start_time": "2024-08-14T14:39:19.214Z"
   },
   {
    "duration": 92,
    "start_time": "2024-08-14T14:39:19.234Z"
   },
   {
    "duration": 41,
    "start_time": "2024-08-14T14:39:19.329Z"
   },
   {
    "duration": 629,
    "start_time": "2024-08-14T14:39:19.373Z"
   },
   {
    "duration": 314,
    "start_time": "2024-08-14T14:39:20.006Z"
   },
   {
    "duration": 7,
    "start_time": "2024-08-14T14:39:20.324Z"
   },
   {
    "duration": 36,
    "start_time": "2024-08-14T14:39:20.335Z"
   },
   {
    "duration": 18,
    "start_time": "2024-08-14T14:39:20.374Z"
   },
   {
    "duration": 10,
    "start_time": "2024-08-14T14:39:20.395Z"
   },
   {
    "duration": 62,
    "start_time": "2024-08-14T14:39:20.407Z"
   },
   {
    "duration": 90,
    "start_time": "2024-08-14T14:39:20.480Z"
   },
   {
    "duration": 9,
    "start_time": "2024-08-14T14:39:20.573Z"
   },
   {
    "duration": 10,
    "start_time": "2024-08-14T14:39:20.584Z"
   },
   {
    "duration": 5,
    "start_time": "2024-08-14T14:39:20.597Z"
   },
   {
    "duration": 19,
    "start_time": "2024-08-14T14:39:20.605Z"
   },
   {
    "duration": 17,
    "start_time": "2024-08-14T14:39:20.669Z"
   },
   {
    "duration": 18,
    "start_time": "2024-08-14T14:39:20.689Z"
   },
   {
    "duration": 72,
    "start_time": "2024-08-14T14:39:20.709Z"
   },
   {
    "duration": 96,
    "start_time": "2024-08-14T14:39:20.785Z"
   },
   {
    "duration": 13,
    "start_time": "2024-08-14T14:39:20.885Z"
   },
   {
    "duration": 80,
    "start_time": "2024-08-14T14:39:20.903Z"
   },
   {
    "duration": 5,
    "start_time": "2024-08-14T14:39:20.987Z"
   },
   {
    "duration": 19,
    "start_time": "2024-08-14T14:39:20.996Z"
   },
   {
    "duration": 51,
    "start_time": "2024-08-14T14:39:21.018Z"
   },
   {
    "duration": 19,
    "start_time": "2024-08-14T14:39:21.072Z"
   },
   {
    "duration": 83,
    "start_time": "2024-08-14T14:39:21.096Z"
   },
   {
    "duration": 88,
    "start_time": "2024-08-14T14:39:21.187Z"
   },
   {
    "duration": 9,
    "start_time": "2024-08-14T14:39:21.279Z"
   },
   {
    "duration": 19,
    "start_time": "2024-08-14T14:39:21.293Z"
   },
   {
    "duration": 4,
    "start_time": "2024-08-14T14:58:33.957Z"
   },
   {
    "duration": 7,
    "start_time": "2024-08-14T14:58:34.512Z"
   },
   {
    "duration": 490,
    "start_time": "2024-08-14T14:59:23.184Z"
   },
   {
    "duration": 55,
    "start_time": "2024-08-14T14:59:45.862Z"
   },
   {
    "duration": 4,
    "start_time": "2024-08-14T15:01:33.032Z"
   },
   {
    "duration": 5,
    "start_time": "2024-08-14T15:01:33.458Z"
   },
   {
    "duration": 14,
    "start_time": "2024-08-14T15:01:34.157Z"
   },
   {
    "duration": 4,
    "start_time": "2024-08-14T15:05:09.001Z"
   },
   {
    "duration": 7,
    "start_time": "2024-08-14T15:05:09.546Z"
   },
   {
    "duration": 14,
    "start_time": "2024-08-14T15:05:10.066Z"
   },
   {
    "duration": 3,
    "start_time": "2024-08-14T15:06:56.986Z"
   },
   {
    "duration": 5,
    "start_time": "2024-08-14T15:06:57.324Z"
   },
   {
    "duration": 12,
    "start_time": "2024-08-14T15:06:57.710Z"
   },
   {
    "duration": 4,
    "start_time": "2024-08-14T15:13:43.307Z"
   },
   {
    "duration": 6,
    "start_time": "2024-08-14T15:13:43.625Z"
   },
   {
    "duration": 14,
    "start_time": "2024-08-14T15:13:44.029Z"
   },
   {
    "duration": 4,
    "start_time": "2024-08-14T15:15:06.237Z"
   },
   {
    "duration": 6,
    "start_time": "2024-08-14T15:15:06.536Z"
   },
   {
    "duration": 12,
    "start_time": "2024-08-14T15:15:06.973Z"
   },
   {
    "duration": 17,
    "start_time": "2024-08-14T15:16:05.899Z"
   },
   {
    "duration": 13,
    "start_time": "2024-08-14T15:17:20.849Z"
   },
   {
    "duration": 326,
    "start_time": "2024-08-14T21:34:22.402Z"
   },
   {
    "duration": 43,
    "start_time": "2024-08-14T21:34:47.311Z"
   },
   {
    "duration": 4991,
    "start_time": "2024-08-14T21:34:55.654Z"
   },
   {
    "duration": 523,
    "start_time": "2024-08-14T21:35:00.650Z"
   },
   {
    "duration": 18,
    "start_time": "2024-08-14T21:35:01.176Z"
   },
   {
    "duration": 30,
    "start_time": "2024-08-14T21:35:01.197Z"
   },
   {
    "duration": 77,
    "start_time": "2024-08-14T21:35:01.232Z"
   },
   {
    "duration": 13,
    "start_time": "2024-08-14T21:35:01.312Z"
   },
   {
    "duration": 86,
    "start_time": "2024-08-14T21:35:01.328Z"
   },
   {
    "duration": 19,
    "start_time": "2024-08-14T21:35:01.418Z"
   },
   {
    "duration": 12,
    "start_time": "2024-08-14T21:35:01.440Z"
   },
   {
    "duration": 53,
    "start_time": "2024-08-14T21:35:01.456Z"
   },
   {
    "duration": 41,
    "start_time": "2024-08-14T21:35:01.512Z"
   },
   {
    "duration": 12,
    "start_time": "2024-08-14T21:35:01.556Z"
   },
   {
    "duration": 83,
    "start_time": "2024-08-14T21:35:01.572Z"
   },
   {
    "duration": 20,
    "start_time": "2024-08-14T21:35:01.661Z"
   },
   {
    "duration": 34,
    "start_time": "2024-08-14T21:35:01.683Z"
   },
   {
    "duration": 20,
    "start_time": "2024-08-14T21:35:01.720Z"
   },
   {
    "duration": 69,
    "start_time": "2024-08-14T21:35:01.743Z"
   },
   {
    "duration": 15,
    "start_time": "2024-08-14T21:35:01.814Z"
   },
   {
    "duration": 81,
    "start_time": "2024-08-14T21:35:01.832Z"
   },
   {
    "duration": 20,
    "start_time": "2024-08-14T21:35:01.916Z"
   },
   {
    "duration": 621,
    "start_time": "2024-08-14T21:35:01.939Z"
   },
   {
    "duration": 376,
    "start_time": "2024-08-14T21:35:02.563Z"
   },
   {
    "duration": 5,
    "start_time": "2024-08-14T21:35:02.943Z"
   },
   {
    "duration": 16,
    "start_time": "2024-08-14T21:35:02.952Z"
   },
   {
    "duration": 43,
    "start_time": "2024-08-14T21:35:02.971Z"
   },
   {
    "duration": 11,
    "start_time": "2024-08-14T21:35:03.017Z"
   },
   {
    "duration": 8,
    "start_time": "2024-08-14T21:35:03.031Z"
   },
   {
    "duration": 18,
    "start_time": "2024-08-14T21:35:03.110Z"
   },
   {
    "duration": 80,
    "start_time": "2024-08-14T21:35:03.131Z"
   },
   {
    "duration": 3,
    "start_time": "2024-08-14T21:35:03.214Z"
   },
   {
    "duration": 5,
    "start_time": "2024-08-14T21:35:03.221Z"
   },
   {
    "duration": 12,
    "start_time": "2024-08-14T21:35:03.229Z"
   },
   {
    "duration": 6,
    "start_time": "2024-08-14T21:35:03.244Z"
   },
   {
    "duration": 62,
    "start_time": "2024-08-14T21:35:03.252Z"
   },
   {
    "duration": 16,
    "start_time": "2024-08-14T21:35:03.317Z"
   },
   {
    "duration": 9,
    "start_time": "2024-08-14T21:35:03.335Z"
   },
   {
    "duration": 65,
    "start_time": "2024-08-14T21:35:03.347Z"
   },
   {
    "duration": 100,
    "start_time": "2024-08-14T21:35:03.414Z"
   },
   {
    "duration": 13,
    "start_time": "2024-08-14T21:35:03.520Z"
   },
   {
    "duration": 79,
    "start_time": "2024-08-14T21:35:03.536Z"
   },
   {
    "duration": 11,
    "start_time": "2024-08-14T21:35:03.624Z"
   },
   {
    "duration": 5,
    "start_time": "2024-08-14T21:35:03.638Z"
   },
   {
    "duration": 16,
    "start_time": "2024-08-14T21:35:03.646Z"
   },
   {
    "duration": 56,
    "start_time": "2024-08-14T21:35:03.665Z"
   },
   {
    "duration": 17,
    "start_time": "2024-08-14T21:35:03.725Z"
   },
   {
    "duration": 71,
    "start_time": "2024-08-14T21:35:03.745Z"
   },
   {
    "duration": 92,
    "start_time": "2024-08-14T21:35:03.821Z"
   },
   {
    "duration": 16,
    "start_time": "2024-08-14T21:35:03.916Z"
   },
   {
    "duration": 16,
    "start_time": "2024-08-14T21:35:04.010Z"
   },
   {
    "duration": 11,
    "start_time": "2024-08-14T21:35:04.030Z"
   },
   {
    "duration": 468,
    "start_time": "2024-08-14T21:35:04.044Z"
   },
   {
    "duration": 888,
    "start_time": "2024-08-14T21:35:25.464Z"
   },
   {
    "duration": 120,
    "start_time": "2024-08-14T21:35:46.932Z"
   },
   {
    "duration": 103,
    "start_time": "2024-08-14T21:36:18.313Z"
   },
   {
    "duration": 39,
    "start_time": "2024-08-14T21:36:52.447Z"
   },
   {
    "duration": 20965,
    "start_time": "2024-08-14T21:37:25.702Z"
   },
   {
    "duration": 20980,
    "start_time": "2024-08-14T21:38:35.686Z"
   },
   {
    "duration": 20957,
    "start_time": "2024-08-14T21:39:42.854Z"
   },
   {
    "duration": 20973,
    "start_time": "2024-08-14T21:42:32.443Z"
   },
   {
    "duration": 21242,
    "start_time": "2024-08-14T21:42:53.421Z"
   },
   {
    "duration": 20930,
    "start_time": "2024-08-14T21:43:14.667Z"
   },
   {
    "duration": 45,
    "start_time": "2024-08-14T21:43:35.600Z"
   },
   {
    "duration": 18640,
    "start_time": "2024-08-14T21:44:02.680Z"
   },
   {
    "duration": 21029,
    "start_time": "2024-08-14T21:46:07.073Z"
   },
   {
    "duration": 21066,
    "start_time": "2024-08-14T21:46:32.797Z"
   },
   {
    "duration": 21165,
    "start_time": "2024-08-14T21:51:35.053Z"
   },
   {
    "duration": 20996,
    "start_time": "2024-08-14T21:52:31.113Z"
   },
   {
    "duration": 15,
    "start_time": "2024-08-14T22:22:01.825Z"
   },
   {
    "duration": 6,
    "start_time": "2024-08-14T22:23:19.031Z"
   },
   {
    "duration": 6,
    "start_time": "2024-08-14T22:24:03.121Z"
   },
   {
    "duration": 7,
    "start_time": "2024-08-14T22:26:49.671Z"
   },
   {
    "duration": 6,
    "start_time": "2024-08-14T22:26:55.071Z"
   },
   {
    "duration": 319,
    "start_time": "2024-08-15T20:51:26.616Z"
   },
   {
    "duration": 4986,
    "start_time": "2024-08-15T20:51:36.106Z"
   },
   {
    "duration": 539,
    "start_time": "2024-08-15T20:51:41.096Z"
   },
   {
    "duration": 17,
    "start_time": "2024-08-15T20:51:41.638Z"
   },
   {
    "duration": 21,
    "start_time": "2024-08-15T20:51:41.669Z"
   },
   {
    "duration": 72,
    "start_time": "2024-08-15T20:51:41.696Z"
   },
   {
    "duration": 14,
    "start_time": "2024-08-15T20:51:41.771Z"
   },
   {
    "duration": 88,
    "start_time": "2024-08-15T20:51:41.791Z"
   },
   {
    "duration": 19,
    "start_time": "2024-08-15T20:51:41.885Z"
   },
   {
    "duration": 12,
    "start_time": "2024-08-15T20:51:41.907Z"
   },
   {
    "duration": 54,
    "start_time": "2024-08-15T20:51:41.922Z"
   },
   {
    "duration": 41,
    "start_time": "2024-08-15T20:51:41.979Z"
   },
   {
    "duration": 13,
    "start_time": "2024-08-15T20:51:42.022Z"
   },
   {
    "duration": 82,
    "start_time": "2024-08-15T20:51:42.038Z"
   },
   {
    "duration": 42,
    "start_time": "2024-08-15T20:51:42.128Z"
   },
   {
    "duration": 14,
    "start_time": "2024-08-15T20:51:42.173Z"
   },
   {
    "duration": 19,
    "start_time": "2024-08-15T20:51:42.191Z"
   },
   {
    "duration": 78,
    "start_time": "2024-08-15T20:51:42.212Z"
   },
   {
    "duration": 13,
    "start_time": "2024-08-15T20:51:42.293Z"
   },
   {
    "duration": 80,
    "start_time": "2024-08-15T20:51:42.309Z"
   },
   {
    "duration": 19,
    "start_time": "2024-08-15T20:51:42.392Z"
   },
   {
    "duration": 607,
    "start_time": "2024-08-15T20:51:42.414Z"
   },
   {
    "duration": 375,
    "start_time": "2024-08-15T20:51:43.025Z"
   },
   {
    "duration": 5,
    "start_time": "2024-08-15T20:51:43.403Z"
   },
   {
    "duration": 15,
    "start_time": "2024-08-15T20:51:43.412Z"
   },
   {
    "duration": 43,
    "start_time": "2024-08-15T20:51:43.430Z"
   },
   {
    "duration": 14,
    "start_time": "2024-08-15T20:51:43.476Z"
   },
   {
    "duration": 9,
    "start_time": "2024-08-15T20:51:43.493Z"
   },
   {
    "duration": 16,
    "start_time": "2024-08-15T20:51:43.569Z"
   },
   {
    "duration": 81,
    "start_time": "2024-08-15T20:51:43.588Z"
   },
   {
    "duration": 4,
    "start_time": "2024-08-15T20:51:43.673Z"
   },
   {
    "duration": 6,
    "start_time": "2024-08-15T20:51:43.680Z"
   },
   {
    "duration": 12,
    "start_time": "2024-08-15T20:51:43.689Z"
   },
   {
    "duration": 6,
    "start_time": "2024-08-15T20:51:43.704Z"
   },
   {
    "duration": 65,
    "start_time": "2024-08-15T20:51:43.712Z"
   },
   {
    "duration": 15,
    "start_time": "2024-08-15T20:51:43.779Z"
   },
   {
    "duration": 15,
    "start_time": "2024-08-15T20:51:43.796Z"
   },
   {
    "duration": 60,
    "start_time": "2024-08-15T20:51:43.813Z"
   },
   {
    "duration": 92,
    "start_time": "2024-08-15T20:51:43.877Z"
   },
   {
    "duration": 8,
    "start_time": "2024-08-15T20:51:43.972Z"
   },
   {
    "duration": 86,
    "start_time": "2024-08-15T20:51:43.983Z"
   },
   {
    "duration": 13,
    "start_time": "2024-08-15T20:51:44.078Z"
   },
   {
    "duration": 6,
    "start_time": "2024-08-15T20:51:44.094Z"
   },
   {
    "duration": 17,
    "start_time": "2024-08-15T20:51:44.103Z"
   },
   {
    "duration": 55,
    "start_time": "2024-08-15T20:51:44.123Z"
   },
   {
    "duration": 16,
    "start_time": "2024-08-15T20:51:44.181Z"
   },
   {
    "duration": 69,
    "start_time": "2024-08-15T20:51:44.200Z"
   },
   {
    "duration": 17,
    "start_time": "2024-08-15T20:51:44.273Z"
   },
   {
    "duration": 7,
    "start_time": "2024-08-15T20:51:44.368Z"
   },
   {
    "duration": 16,
    "start_time": "2024-08-15T20:51:44.378Z"
   },
   {
    "duration": 12,
    "start_time": "2024-08-15T20:51:44.396Z"
   },
   {
    "duration": 1443,
    "start_time": "2024-08-15T20:51:44.411Z"
   },
   {
    "duration": 21350,
    "start_time": "2024-08-15T20:52:07.172Z"
   },
   {
    "duration": 1508,
    "start_time": "2024-08-15T20:52:28.529Z"
   },
   {
    "duration": 1720,
    "start_time": "2024-08-15T20:52:35.933Z"
   },
   {
    "duration": 426,
    "start_time": "2024-08-15T20:56:36.165Z"
   },
   {
    "duration": 12,
    "start_time": "2024-08-15T21:00:25.854Z"
   },
   {
    "duration": 10,
    "start_time": "2024-08-15T21:00:56.420Z"
   },
   {
    "duration": 10,
    "start_time": "2024-08-15T21:01:03.884Z"
   },
   {
    "duration": 9,
    "start_time": "2024-08-15T21:02:58.821Z"
   },
   {
    "duration": 11,
    "start_time": "2024-08-15T21:07:02.441Z"
   },
   {
    "duration": 12,
    "start_time": "2024-08-15T22:43:36.411Z"
   },
   {
    "duration": 5,
    "start_time": "2024-08-15T22:43:38.416Z"
   },
   {
    "duration": 6,
    "start_time": "2024-08-15T22:45:17.564Z"
   },
   {
    "duration": 5,
    "start_time": "2024-08-15T22:45:24.303Z"
   }
  ],
  "kernelspec": {
   "display_name": "Python 3 (ipykernel)",
   "language": "python",
   "name": "python3"
  },
  "language_info": {
   "codemirror_mode": {
    "name": "ipython",
    "version": 3
   },
   "file_extension": ".py",
   "mimetype": "text/x-python",
   "name": "python",
   "nbconvert_exporter": "python",
   "pygments_lexer": "ipython3",
   "version": "3.9.19"
  },
  "toc": {
   "base_numbering": 1,
   "nav_menu": {},
   "number_sections": true,
   "sideBar": true,
   "skip_h1_title": true,
   "title_cell": "Table of Contents",
   "title_sidebar": "Contents",
   "toc_cell": false,
   "toc_position": {},
   "toc_section_display": true,
   "toc_window_display": false
  }
 },
 "nbformat": 4,
 "nbformat_minor": 2
}
